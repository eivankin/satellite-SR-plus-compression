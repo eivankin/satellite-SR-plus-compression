{
 "metadata": {
  "kernelspec": {
   "language": "python",
   "display_name": "Python 3",
   "name": "python3"
  },
  "language_info": {
   "name": "python",
   "version": "3.11.11",
   "mimetype": "text/x-python",
   "codemirror_mode": {
    "name": "ipython",
    "version": 3
   },
   "pygments_lexer": "ipython3",
   "nbconvert_exporter": "python",
   "file_extension": ".py"
  },
  "kaggle": {
   "accelerator": "gpu",
   "dataSources": [
    {
     "sourceId": 11939080,
     "sourceType": "datasetVersion",
     "datasetId": 7498435
    }
   ],
   "isInternetEnabled": true,
   "language": "python",
   "sourceType": "notebook",
   "isGpuEnabled": true
  }
 },
 "nbformat_minor": 4,
 "nbformat": 4,
 "cells": [
  {
   "metadata": {},
   "cell_type": "code",
   "outputs": [],
   "execution_count": null,
   "source": "!pip install kaggle"
  },
  {
   "metadata": {
    "ExecuteTime": {
     "end_time": "2025-05-25T21:44:54.456656Z",
     "start_time": "2025-05-25T21:44:54.340438Z"
    }
   },
   "cell_type": "code",
   "source": "!KAGGLE_USERNAME=datadinosaur KAGGLE_KEY=xxxxxxxxxxxxxx kaggle datasets download -d eivankin/s2-naip-5k-pairs-rgb-nir",
   "outputs": [
    {
     "name": "stdout",
     "output_type": "stream",
     "text": [
      "t\r\n"
     ]
    }
   ],
   "execution_count": 9
  },
  {
   "cell_type": "code",
   "source": "!git clone https://github.com/eivankin/satlas-SR-location-embeddings",
   "metadata": {
    "_uuid": "8f2839f25d086af736a60e9eeb907d3b93b6e0e5",
    "_cell_guid": "b1076dfc-b9ad-4769-8c92-a6c4dae69d19",
    "trusted": true,
    "execution": {
     "iopub.status.busy": "2025-05-25T16:02:05.288208Z",
     "iopub.execute_input": "2025-05-25T16:02:05.288444Z",
     "iopub.status.idle": "2025-05-25T16:02:06.913446Z",
     "shell.execute_reply.started": "2025-05-25T16:02:05.288418Z",
     "shell.execute_reply": "2025-05-25T16:02:06.912391Z"
    }
   },
   "outputs": [
    {
     "name": "stdout",
     "text": "Cloning into 'satlas-SR-location-embeddings'...\nremote: Enumerating objects: 381, done.\u001B[K\nremote: Counting objects: 100% (376/376), done.\u001B[K\nremote: Compressing objects: 100% (212/212), done.\u001B[K\nremote: Total 381 (delta 217), reused 291 (delta 163), pack-reused 5 (from 1)\u001B[K\nReceiving objects: 100% (381/381), 18.37 MiB | 34.52 MiB/s, done.\nResolving deltas: 100% (217/217), done.\n",
     "output_type": "stream"
    }
   ],
   "execution_count": 1
  },
  {
   "cell_type": "code",
   "source": "!cd satlas-SR-location-embeddings && git pull ",
   "metadata": {
    "trusted": true,
    "execution": {
     "iopub.status.busy": "2025-05-25T16:43:49.537949Z",
     "iopub.execute_input": "2025-05-25T16:43:49.538375Z",
     "iopub.status.idle": "2025-05-25T16:43:50.241552Z",
     "shell.execute_reply.started": "2025-05-25T16:43:49.538347Z",
     "shell.execute_reply": "2025-05-25T16:43:50.240220Z"
    }
   },
   "outputs": [
    {
     "name": "stdout",
     "text": "remote: Enumerating objects: 9, done.\u001B[K\nremote: Counting objects: 100% (9/9), done.\u001B[K\nremote: Compressing objects: 100% (2/2), done.\u001B[K\nremote: Total 5 (delta 3), reused 5 (delta 3), pack-reused 0 (from 0)\u001B[K\nUnpacking objects: 100% (5/5), 734 bytes | 367.00 KiB/s, done.\nFrom https://github.com/eivankin/satlas-SR-location-embeddings\n   d98d0bf..83eac28  main       -> origin/main\nUpdating d98d0bf..83eac28\nFast-forward\n ssr/data/s2-naip_dataset.py | 21 \u001B[32m+++++++++++++\u001B[m\u001B[31m--------\u001B[m\n 1 file changed, 13 insertions(+), 8 deletions(-)\n",
     "output_type": "stream"
    }
   ],
   "execution_count": 13
  },
  {
   "cell_type": "code",
   "source": "!cd satlas-SR-location-embeddings && mkdir weights && cd weights && wget https://pub-25c498004d1e4d4c8da69b2c05676836.r2.dev/esrgan_1S2.pth",
   "metadata": {
    "trusted": true,
    "execution": {
     "iopub.status.busy": "2025-05-25T16:02:07.309603Z",
     "iopub.execute_input": "2025-05-25T16:02:07.309893Z",
     "iopub.status.idle": "2025-05-25T16:02:09.544606Z",
     "shell.execute_reply.started": "2025-05-25T16:02:07.309848Z",
     "shell.execute_reply": "2025-05-25T16:02:09.543642Z"
    }
   },
   "outputs": [
    {
     "name": "stdout",
     "text": "--2025-05-25 16:02:07--  https://pub-25c498004d1e4d4c8da69b2c05676836.r2.dev/esrgan_1S2.pth\nResolving pub-25c498004d1e4d4c8da69b2c05676836.r2.dev (pub-25c498004d1e4d4c8da69b2c05676836.r2.dev)... 162.159.140.237, 172.66.0.235, 2606:4700:7::eb, ...\nConnecting to pub-25c498004d1e4d4c8da69b2c05676836.r2.dev (pub-25c498004d1e4d4c8da69b2c05676836.r2.dev)|162.159.140.237|:443... connected.\nHTTP request sent, awaiting response... 200 OK\nLength: 134060750 (128M) [application/zip]\nSaving to: ‘esrgan_1S2.pth’\n\nesrgan_1S2.pth      100%[===================>] 127.85M  75.0MB/s    in 1.7s    \n\n2025-05-25 16:02:09 (75.0 MB/s) - ‘esrgan_1S2.pth’ saved [134060750/134060750]\n\n",
     "output_type": "stream"
    }
   ],
   "execution_count": 3
  },
  {
   "cell_type": "code",
   "source": [
    "%%writefile satlas-SR-location-embeddings/ssr/options/osm_obj_esrgan.yml\n",
    "\n",
    "# General Settings\n",
    "name: osm-obj-esrgan-nir\n",
    "model_type: OSMObjESRGANModel\n",
    "scale: 4\n",
    "num_gpu: auto\n",
    "manual_seed: 0\n",
    "\n",
    "# USM the Ground-Truth\n",
    "l1_gt_usm: True\n",
    "percep_gt_usm: True\n",
    "gan_gt_usm: False\n",
    "\n",
    "# Feed the discriminator the same low-res images as the generator receives\n",
    "feed_disc_lr: True\n",
    "\n",
    "# Weight for OSM object loss within GAN loss calculation\n",
    "osm_obj_weight: 0.3\n",
    "\n",
    "# Dataset and Dataloader Settings\n",
    "datasets:\n",
    "  train:\n",
    "    name: train\n",
    "    type: S2NAIPDataset\n",
    "\n",
    "    sentinel2_path: s2-naip-5k-pairs-rgb-nir/train/sentinel2\n",
    "    naip_path: s2-naip-5k-pairs-rgb-nir/train/naip\n",
    "\n",
    "#    tile_weights: super_resolution_2023-12-08/train_tile_weights/urban_set_weights.json\n",
    "\n",
    "    osm_objs_path: s2-naip-5k-pairs-rgb-nir/train/openstreetmap\n",
    "\n",
    "    # Min number of OSM features per tile to be used. \n",
    "    # NOTE: Number of samples is currently clipped to this number, which reduces dataset size.\n",
    "    n_osm_objs: 1\n",
    "\n",
    "    use_shuffle: True #False  # shuffle must be false if using tile_weights\n",
    "    rand_crop: True  # random cropping and resizing augmentation (training only)\n",
    "\n",
    "    plot_inputs: False\n",
    "\n",
    "    num_worker_per_gpu: 1\n",
    "    batch_size_per_gpu: 8\n",
    "\n",
    "    n_s2_images: 1\n",
    "\n",
    "    s2_bands: [7, 6, 5] # [39, 38, 37] for RGB of q_18 merge, [35, 34, 33] for RGB for q_50, [40, 39, 38] for NIR,R,G for q_18\n",
    "    naip_bands: [0, 1, 2] # [0, 1, 2] for RGB, [3, 0, 1] NIR,R,G\n",
    "\n",
    "    io_backend:\n",
    "      type: disk\n",
    "\n",
    "  val:\n",
    "     name: validation\n",
    "     type: S2NAIPDataset\n",
    "\n",
    "     sentinel2_path: s2-naip-5k-pairs-rgb-nir/val/sentinel2\n",
    "     naip_path: s2-naip-5k-pairs-rgb-nir/val/naip\n",
    "\n",
    "     use_shuffle: False\n",
    "\n",
    "     n_s2_images: 1\n",
    "\n",
    "     s2_bands: [7, 6, 5] # [39, 38, 37] for RGB of q_18 merge, [35, 34, 33] for RGB for q_50, [40, 39, 38] for NIR,R,G for q_18\n",
    "     naip_bands: [0, 1, 2] # [0, 1, 2] for RGB, [3, 0, 1] NIR,R,G\n",
    "\n",
    "     io_backend:\n",
    "       type: disk\n",
    "\n",
    "test_datasets:\n",
    "   test:\n",
    "     name: test\n",
    "     type: S2NAIPDataset\n",
    "     phase: test\n",
    "     scale: 4\n",
    "\n",
    "     sentinel2_path: s2-naip-5k-pairs-rgb-nir/test/sentinel2\n",
    "     naip_path: s2-naip-5k-pairs-rgb-nir/test/naip\n",
    "\n",
    "     use_shuffle: False\n",
    "\n",
    "     s2_bands: [7, 6, 5] # [39, 38, 37] for RGB of q_18 merge, [35, 34, 33] for RGB for q_50, [40, 39, 38] for NIR,R,G for q_18\n",
    "     naip_bands: [0, 1, 2] # [0, 1, 2] for RGB, [3, 0, 1] NIR,R,G\n",
    "\n",
    "     n_s2_images: 1\n",
    "\n",
    "     io_backend:\n",
    "       type: disk\n",
    "\n",
    "# Network Structures\n",
    "network_g:\n",
    "  type: SSR_RRDBNet\n",
    "  num_in_ch: 3  # number of Sentinel2 images * 3 channels (RGB)\n",
    "  num_out_ch: 3\n",
    "  num_feat: 64\n",
    "  num_block: 23\n",
    "  num_grow_ch: 32\n",
    "\n",
    "network_d:\n",
    "  type: OSMObjDiscriminator\n",
    "  num_in_ch: 6  # RGB of Real/Fake image + [optional] old high-res image + [optional] low-res images\n",
    "  num_feat: 64\n",
    "  skip_connection: True\n",
    "\n",
    "# Load in existing weights to the generator and discriminator\n",
    "# Uncomment pretrain_network_g and pretrain_network_d and add paths to your weights\n",
    "path:\n",
    "  pretrain_network_g: weights/esrgan_1S2.pth\n",
    "  param_key_g: params_ema\n",
    "  strict_load_g: false\n",
    "#  pretrain_network_d: weights/net_d_pre.pth\n",
    "  param_key_d: params\n",
    "  strict_load_d: true\n",
    "  resume_state: ~\n",
    "  visualization: .\n",
    "\n",
    "# Training Settings\n",
    "train:\n",
    "  ema_decay: 0.999\n",
    "  optim_g:\n",
    "    type: Adam\n",
    "    lr: !!float 1e-4\n",
    "    weight_decay: 0\n",
    "    betas: [0.9, 0.99]\n",
    "  optim_d:\n",
    "    type: Adam\n",
    "    lr: !!float 1e-4\n",
    "    weight_decay: 0\n",
    "    betas: [0.9, 0.99]\n",
    "\n",
    "  scheduler:\n",
    "    type: MultiStepLR\n",
    "    milestones: [10000]\n",
    "    gamma: 0.5\n",
    "\n",
    "  total_iter: 12000\n",
    "  warmup_iter: -1  # no warm up todo: warmup where only missing weights (projection, attention?) is trained\n",
    "\n",
    "  # Losses\n",
    "  pixel_opt:\n",
    "    type: L1Loss\n",
    "    loss_weight: 1.0\n",
    "    reduction: mean\n",
    "  # Perceptual Loss (content and style losses)\n",
    "  perceptual_opt:\n",
    "    type: PerceptualLoss\n",
    "    layer_weights:\n",
    "      # before relu\n",
    "      'conv1_2': 0.1\n",
    "      'conv2_2': 0.1\n",
    "      'conv3_4': 1\n",
    "      'conv4_4': 1\n",
    "      'conv5_4': 1\n",
    "    vgg_type: vgg19\n",
    "    use_input_norm: true\n",
    "    perceptual_weight: !!float 1.0\n",
    "    style_weight: 0\n",
    "    range_norm: false\n",
    "    criterion: l1\n",
    "  # GAN Loss\n",
    "  gan_opt:\n",
    "    type: GANLoss\n",
    "    gan_type: vanilla\n",
    "    real_label_val: 1.0\n",
    "    fake_label_val: 0.0\n",
    "    loss_weight: !!float 1e-1\n",
    "  # CLIP similarity loss\n",
    "  clip_opt:\n",
    "    type: CLIPLoss\n",
    "    clip_loss_model: ViT-B-16-SigLIP-256\n",
    "  # TODO: location matching loss\n",
    "\n",
    "  net_d_iters: 1\n",
    "  net_d_init_iters: 0\n",
    "\n",
    "# Validation Settings\n",
    "val:\n",
    "   val_freq: !!float 5e2\n",
    "   save_img: True\n",
    "   pbar: True\n",
    "\n",
    "   metrics:\n",
    "     psnr:\n",
    "       type: calculate_psnr\n",
    "       crop_border: 4\n",
    "       test_y_channel: false\n",
    "     ssim:\n",
    "       type: calculate_ssim\n",
    "       crop_border: 4\n",
    "       test_y_channel: false\n",
    "     cpsnr:\n",
    "       type: calculate_cpsnr\n",
    "       crop_border: 4\n",
    "       test_y_channel: false\n",
    "#     lpips:\n",
    "#       type: calculate_lpips\n",
    "#       lpips_model: vgg\n",
    "     clipscore:\n",
    "       type: calculate_clipscore\n",
    "       clip_model: clip-ViT-B/16  # see ssr/metrics/clipscore.py for currently supported models\n",
    "\n",
    "# Testing Settings\n",
    "test:\n",
    "  save_img: True\n",
    "\n",
    "  metrics:\n",
    "     psnr:\n",
    "       type: calculate_psnr\n",
    "       crop_border: 4\n",
    "       test_y_channel: false\n",
    "     ssim:\n",
    "       type: calculate_ssim\n",
    "       crop_border: 4\n",
    "       test_y_channel: false\n",
    "     cpsnr:\n",
    "       type: calculate_cpsnr\n",
    "       crop_border: 4\n",
    "       test_y_channel: false\n",
    "     lpips:\n",
    "       type: calculate_lpips\n",
    "       lpips_model: vgg\n",
    "     clipscore:\n",
    "       type: calculate_clipscore\n",
    "       clip_model: siglip-ViT-SO400M-14  # see ssr/metrics/clipscore.py for currently supported models\n",
    "\n",
    "# Logging Settings\n",
    "logger:\n",
    "  print_freq: 10\n",
    "  save_checkpoint_freq: !!float 5e2\n",
    "  use_tb_logger: true\n",
    "  wandb:\n",
    "    project: multisat\n",
    "    resume_id: ~\n",
    "\n",
    "# Dist Training Settings\n",
    "dist_params:\n",
    "  backend: nccl\n",
    "  port: 29500\n"
   ],
   "metadata": {
    "trusted": true,
    "execution": {
     "iopub.status.busy": "2025-05-25T16:10:14.837058Z",
     "iopub.execute_input": "2025-05-25T16:10:14.837858Z",
     "iopub.status.idle": "2025-05-25T16:10:14.845205Z",
     "shell.execute_reply.started": "2025-05-25T16:10:14.837830Z",
     "shell.execute_reply": "2025-05-25T16:10:14.844452Z"
    }
   },
   "outputs": [
    {
     "name": "stdout",
     "text": "Overwriting satlas-SR-location-embeddings/ssr/options/osm_obj_esrgan.yml\n",
     "output_type": "stream"
    }
   ],
   "execution_count": 11
  },
  {
   "cell_type": "code",
   "source": "!pip install -qqq -r satlas-SR-location-embeddings/requirements.txt",
   "metadata": {
    "trusted": true,
    "execution": {
     "iopub.status.busy": "2025-05-25T16:02:09.557984Z",
     "iopub.execute_input": "2025-05-25T16:02:09.558245Z",
     "iopub.status.idle": "2025-05-25T16:06:06.673190Z",
     "shell.execute_reply.started": "2025-05-25T16:02:09.558220Z",
     "shell.execute_reply": "2025-05-25T16:06:06.672445Z"
    }
   },
   "outputs": [
    {
     "name": "stdout",
     "text": "  Preparing metadata (setup.py) ... \u001B[?25l\u001B[?25hdone\n\u001B[2K     \u001B[90m━━━━━━━━━━━━━━━━━━━━━━━━━━━━━━━━━━━━━━━━\u001B[0m \u001B[32m172.5/172.5 kB\u001B[0m \u001B[31m5.5 MB/s\u001B[0m eta \u001B[36m0:00:00\u001B[0m\n\u001B[?25h  Preparing metadata (setup.py) ... \u001B[?25l\u001B[?25hdone\n\u001B[2K     \u001B[90m━━━━━━━━━━━━━━━━━━━━━━━━━━━━━━━━━━━━━━━━\u001B[0m \u001B[32m46.8/46.8 kB\u001B[0m \u001B[31m2.2 MB/s\u001B[0m eta \u001B[36m0:00:00\u001B[0m\n\u001B[2K   \u001B[90m━━━━━━━━━━━━━━━━━━━━━━━━━━━━━━━━━━━━━━━━\u001B[0m \u001B[32m670.2/670.2 MB\u001B[0m \u001B[31m1.2 MB/s\u001B[0m eta \u001B[36m0:00:00\u001B[0m0:00:01\u001B[0m00:01\u001B[0m\n\u001B[2K   \u001B[90m━━━━━━━━━━━━━━━━━━━━━━━━━━━━━━━━━━━━━━━━\u001B[0m \u001B[32m6.9/6.9 MB\u001B[0m \u001B[31m97.9 MB/s\u001B[0m eta \u001B[36m0:00:00\u001B[0m:00:01\u001B[0m\n\u001B[2K   \u001B[90m━━━━━━━━━━━━━━━━━━━━━━━━━━━━━━━━━━━━━━━━\u001B[0m \u001B[32m410.6/410.6 MB\u001B[0m \u001B[31m2.0 MB/s\u001B[0m eta \u001B[36m0:00:00\u001B[0m:00:01\u001B[0m00:01\u001B[0mm\n\u001B[2K   \u001B[90m━━━━━━━━━━━━━━━━━━━━━━━━━━━━━━━━━━━━━━━━\u001B[0m \u001B[32m14.1/14.1 MB\u001B[0m \u001B[31m60.0 MB/s\u001B[0m eta \u001B[36m0:00:00\u001B[0m00:01\u001B[0m00:01\u001B[0m\n\u001B[2K   \u001B[90m━━━━━━━━━━━━━━━━━━━━━━━━━━━━━━━━━━━━━━━━\u001B[0m \u001B[32m23.7/23.7 MB\u001B[0m \u001B[31m53.1 MB/s\u001B[0m eta \u001B[36m0:00:00\u001B[0m00:01\u001B[0m00:01\u001B[0m\n\u001B[2K   \u001B[90m━━━━━━━━━━━━━━━━━━━━━━━━━━━━━━━━━━━━━━━━\u001B[0m \u001B[32m823.6/823.6 kB\u001B[0m \u001B[31m33.4 MB/s\u001B[0m eta \u001B[36m0:00:00\u001B[0m\n\u001B[2K   \u001B[90m━━━━━━━━━━━━━━━━━━━━━━━━━━━━━━━━━━━━━━━━\u001B[0m \u001B[32m731.7/731.7 MB\u001B[0m \u001B[31m1.9 MB/s\u001B[0m eta \u001B[36m0:00:00\u001B[0m0:00:01\u001B[0m00:01\u001B[0m\n\u001B[2K   \u001B[90m━━━━━━━━━━━━━━━━━━━━━━━━━━━━━━━━━━━━━━━━\u001B[0m \u001B[32m121.6/121.6 MB\u001B[0m \u001B[31m2.1 MB/s\u001B[0m eta \u001B[36m0:00:00\u001B[0m0:00:01\u001B[0m00:01\u001B[0m\n\u001B[2K   \u001B[90m━━━━━━━━━━━━━━━━━━━━━━━━━━━━━━━━━━━━━━━━\u001B[0m \u001B[32m56.5/56.5 MB\u001B[0m \u001B[31m28.8 MB/s\u001B[0m eta \u001B[36m0:00:00\u001B[0m:00:01\u001B[0m00:01\u001B[0m\n\u001B[2K   \u001B[90m━━━━━━━━━━━━━━━━━━━━━━━━━━━━━━━━━━━━━━━━\u001B[0m \u001B[32m124.2/124.2 MB\u001B[0m \u001B[31m13.5 MB/s\u001B[0m eta \u001B[36m0:00:00\u001B[0m:00:01\u001B[0m00:01\u001B[0m\n\u001B[2K   \u001B[90m━━━━━━━━━━━━━━━━━━━━━━━━━━━━━━━━━━━━━━━━\u001B[0m \u001B[32m196.0/196.0 MB\u001B[0m \u001B[31m8.4 MB/s\u001B[0m eta \u001B[36m0:00:00\u001B[0m0:00:01\u001B[0m00:01\u001B[0m\n\u001B[2K   \u001B[90m━━━━━━━━━━━━━━━━━━━━━━━━━━━━━━━━━━━━━━━━\u001B[0m \u001B[32m209.8/209.8 MB\u001B[0m \u001B[31m7.9 MB/s\u001B[0m eta \u001B[36m0:00:00\u001B[0m0:00:01\u001B[0m00:01\u001B[0m\n\u001B[2K   \u001B[90m━━━━━━━━━━━━━━━━━━━━━━━━━━━━━━━━━━━━━━━━\u001B[0m \u001B[32m99.1/99.1 kB\u001B[0m \u001B[31m5.9 MB/s\u001B[0m eta \u001B[36m0:00:00\u001B[0m\n\u001B[2K   \u001B[90m━━━━━━━━━━━━━━━━━━━━━━━━━━━━━━━━━━━━━━━━\u001B[0m \u001B[32m89.2/89.2 MB\u001B[0m \u001B[31m18.6 MB/s\u001B[0m eta \u001B[36m0:00:00\u001B[0m:00:01\u001B[0m00:01\u001B[0m\n\u001B[2K   \u001B[90m━━━━━━━━━━━━━━━━━━━━━━━━━━━━━━━━━━━━━━━━\u001B[0m \u001B[32m53.8/53.8 kB\u001B[0m \u001B[31m3.3 MB/s\u001B[0m eta \u001B[36m0:00:00\u001B[0m\n\u001B[2K   \u001B[90m━━━━━━━━━━━━━━━━━━━━━━━━━━━━━━━━━━━━━━━━\u001B[0m \u001B[32m1.5/1.5 MB\u001B[0m \u001B[31m51.3 MB/s\u001B[0m eta \u001B[36m0:00:00\u001B[0m\n\u001B[2K   \u001B[90m━━━━━━━━━━━━━━━━━━━━━━━━━━━━━━━━━━━━━━━━\u001B[0m \u001B[32m44.8/44.8 kB\u001B[0m \u001B[31m2.4 MB/s\u001B[0m eta \u001B[36m0:00:00\u001B[0m\n\u001B[2K   \u001B[90m━━━━━━━━━━━━━━━━━━━━━━━━━━━━━━━━━━━━━━━━\u001B[0m \u001B[32m297.8/297.8 kB\u001B[0m \u001B[31m17.0 MB/s\u001B[0m eta \u001B[36m0:00:00\u001B[0m\n\u001B[2K   \u001B[90m━━━━━━━━━━━━━━━━━━━━━━━━━━━━━━━━━━━━━━━━\u001B[0m \u001B[32m5.5/5.5 MB\u001B[0m \u001B[31m86.2 MB/s\u001B[0m eta \u001B[36m0:00:00\u001B[0m:00:01\u001B[0m\n\u001B[2K   \u001B[90m━━━━━━━━━━━━━━━━━━━━━━━━━━━━━━━━━━━━━━━━\u001B[0m \u001B[32m256.2/256.2 kB\u001B[0m \u001B[31m15.5 MB/s\u001B[0m eta \u001B[36m0:00:00\u001B[0m\n\u001B[?25h  Building wheel for basicsr (setup.py) ... \u001B[?25l\u001B[?25hdone\n  Building wheel for clip (setup.py) ... \u001B[?25l\u001B[?25hdone\n\u001B[31mERROR: pip's dependency resolver does not currently take into account all the packages that are installed. This behaviour is the source of the following dependency conflicts.\ntorchaudio 2.6.0+cu124 requires torch==2.6.0, but you have torch 2.1.0 which is incompatible.\u001B[0m\u001B[31m\n\u001B[0m",
     "output_type": "stream"
    }
   ],
   "execution_count": 5
  },
  {
   "cell_type": "code",
   "source": "!pip install -qqq rasterio transformers==4.33.3",
   "metadata": {
    "trusted": true,
    "execution": {
     "iopub.status.busy": "2025-05-25T16:06:06.674458Z",
     "iopub.execute_input": "2025-05-25T16:06:06.675176Z",
     "iopub.status.idle": "2025-05-25T16:06:19.105201Z",
     "shell.execute_reply.started": "2025-05-25T16:06:06.675148Z",
     "shell.execute_reply": "2025-05-25T16:06:19.104463Z"
    }
   },
   "outputs": [
    {
     "name": "stdout",
     "text": "\u001B[2K     \u001B[90m━━━━━━━━━━━━━━━━━━━━━━━━━━━━━━━━━━━━━━━━\u001B[0m \u001B[32m119.9/119.9 kB\u001B[0m \u001B[31m3.8 MB/s\u001B[0m eta \u001B[36m0:00:00\u001B[0m\n\u001B[2K   \u001B[90m━━━━━━━━━━━━━━━━━━━━━━━━━━━━━━━━━━━━━━━━\u001B[0m \u001B[32m7.6/7.6 MB\u001B[0m \u001B[31m79.4 MB/s\u001B[0m eta \u001B[36m0:00:00\u001B[0m:00:01\u001B[0m0:01\u001B[0m\n\u001B[2K   \u001B[90m━━━━━━━━━━━━━━━━━━━━━━━━━━━━━━━━━━━━━━━━\u001B[0m \u001B[32m22.2/22.2 MB\u001B[0m \u001B[31m78.7 MB/s\u001B[0m eta \u001B[36m0:00:00\u001B[0m:00:01\u001B[0m00:01\u001B[0m\n\u001B[2K   \u001B[90m━━━━━━━━━━━━━━━━━━━━━━━━━━━━━━━━━━━━━━━━\u001B[0m \u001B[32m7.8/7.8 MB\u001B[0m \u001B[31m94.5 MB/s\u001B[0m eta \u001B[36m0:00:00\u001B[0m:00:01\u001B[0m00:01\u001B[0m\n\u001B[?25h\u001B[31mERROR: pip's dependency resolver does not currently take into account all the packages that are installed. This behaviour is the source of the following dependency conflicts.\nsentence-transformers 3.4.1 requires transformers<5.0.0,>=4.41.0, but you have transformers 4.33.3 which is incompatible.\u001B[0m\u001B[31m\n\u001B[0m",
     "output_type": "stream"
    }
   ],
   "execution_count": 6
  },
  {
   "cell_type": "code",
   "source": [
    "import wandb\n",
    "wandb.login(key=\"7283680b6598956ca669e7b22d0abe0a557a47aa\")"
   ],
   "metadata": {
    "trusted": true,
    "execution": {
     "iopub.status.busy": "2025-05-25T16:06:19.106218Z",
     "iopub.execute_input": "2025-05-25T16:06:19.106472Z",
     "iopub.status.idle": "2025-05-25T16:06:29.029807Z",
     "shell.execute_reply.started": "2025-05-25T16:06:19.106447Z",
     "shell.execute_reply": "2025-05-25T16:06:29.029033Z"
    }
   },
   "outputs": [
    {
     "name": "stderr",
     "text": "\u001B[34m\u001B[1mwandb\u001B[0m: Using wandb-core as the SDK backend.  Please refer to https://wandb.me/wandb-core for more information.\n\u001B[34m\u001B[1mwandb\u001B[0m: \u001B[33mWARNING\u001B[0m If you're specifying your api key in code, ensure this code is not shared publicly.\n\u001B[34m\u001B[1mwandb\u001B[0m: \u001B[33mWARNING\u001B[0m Consider setting the WANDB_API_KEY environment variable, or running `wandb login` from the command line.\n\u001B[34m\u001B[1mwandb\u001B[0m: No netrc file found, creating one.\n\u001B[34m\u001B[1mwandb\u001B[0m: Appending key for api.wandb.ai to your netrc file: /root/.netrc\n\u001B[34m\u001B[1mwandb\u001B[0m: Currently logged in as: \u001B[33meivankin\u001B[0m (\u001B[33meivankin-innopolis-university\u001B[0m) to \u001B[32mhttps://api.wandb.ai\u001B[0m. Use \u001B[1m`wandb login --relogin`\u001B[0m to force relogin\n",
     "output_type": "stream"
    },
    {
     "execution_count": 7,
     "output_type": "execute_result",
     "data": {
      "text/plain": "True"
     },
     "metadata": {}
    }
   ],
   "execution_count": 7
  },
  {
   "cell_type": "code",
   "source": "!cd satlas-SR-location-embeddings && python -m ssr.train -opt ssr/options/osm_obj_esrgan.yml      ",
   "metadata": {
    "trusted": true,
    "execution": {
     "iopub.status.busy": "2025-05-25T16:44:05.122400Z",
     "iopub.execute_input": "2025-05-25T16:44:05.122703Z",
     "execution_failed": "2025-05-25T16:53:03.785Z"
    }
   },
   "outputs": [
    {
     "name": "stdout",
     "text": "/usr/local/lib/python3.11/dist-packages/torchvision/transforms/functional_tensor.py:5: UserWarning: The torchvision.transforms.functional_tensor module is deprecated in 0.15 and will be **removed in 0.17**. Please don't rely on it. You probably just need to use APIs in torchvision.transforms.functional or in torchvision.transforms.v2.functional.\n  warnings.warn(\nDisable distributed.\nPath already exists. Rename it to /kaggle/working/satlas-SR-location-embeddings/experiments/osm-obj-esrgan-nir_archived_20250525_164416\nPath already exists. Rename it to /kaggle/working/satlas-SR-location-embeddings/tb_logger/osm-obj-esrgan-nir_archived_20250525_164416\n2025-05-25 16:44:16,793 INFO: \n                ____                _       _____  ____\n               / __ ) ____ _ _____ (_)_____/ ___/ / __ \\\n              / __  |/ __ `// ___// // ___/\\__ \\ / /_/ /\n             / /_/ // /_/ /(__  )/ // /__ ___/ // _, _/\n            /_____/ \\__,_//____//_/ \\___//____//_/ |_|\n     ______                   __   __                 __      __\n    / ____/____   ____   ____/ /  / /   __  __ _____ / /__   / /\n   / / __ / __ \\ / __ \\ / __  /  / /   / / / // ___// //_/  / /\n  / /_/ // /_/ // /_/ // /_/ /  / /___/ /_/ // /__ / /<    /_/\n  \\____/ \\____/ \\____/ \\____/  /_____/\\____/ \\___//_/|_|  (_)\n    \nVersion Information: \n\tBasicSR: 1.4.2\n\tPyTorch: 2.1.0+cu121\n\tTorchVision: 0.16.0+cu121\n2025-05-25 16:44:16,793 INFO: \n  name: osm-obj-esrgan-nir\n  model_type: OSMObjESRGANModel\n  scale: 4\n  num_gpu: 1\n  manual_seed: 0\n  l1_gt_usm: True\n  percep_gt_usm: True\n  gan_gt_usm: False\n  feed_disc_lr: True\n  osm_obj_weight: 0.3\n  datasets:[\n    train:[\n      name: train\n      type: S2NAIPDataset\n      sentinel2_path: /kaggle/input/s2-naip-5k-pairs-rgb-nir/train/sentinel2\n      naip_path: /kaggle/input/s2-naip-5k-pairs-rgb-nir/train/naip\n      osm_objs_path: /kaggle/input/s2-naip-5k-pairs-rgb-nir/train/openstreetmap\n      n_osm_objs: 1\n      use_shuffle: True\n      rand_crop: True\n      plot_inputs: False\n      num_worker_per_gpu: 1\n      batch_size_per_gpu: 8\n      n_s2_images: 1\n      s2_bands: [40, 39, 38]\n      naip_bands: [3, 0, 1]\n      io_backend:[\n        type: disk\n      ]\n      phase: train\n      scale: 4\n    ]\n    val:[\n      name: validation\n      type: S2NAIPDataset\n      sentinel2_path: /kaggle/input/s2-naip-5k-pairs-rgb-nir/val/sentinel2\n      naip_path: /kaggle/input/s2-naip-5k-pairs-rgb-nir/val/naip\n      use_shuffle: False\n      n_s2_images: 1\n      s2_bands: [40, 39, 38]\n      naip_bands: [3, 0, 1]\n      io_backend:[\n        type: disk\n      ]\n      phase: val\n      scale: 4\n    ]\n  ]\n  test_datasets:[\n    test:[\n      name: test\n      type: S2NAIPDataset\n      phase: test\n      scale: 4\n      sentinel2_path: /kaggle/input/s2-naip-5k-pairs-rgb-nir/test/sentinel2\n      naip_path: /kaggle/input/s2-naip-5k-pairs-rgb-nir/test/naip\n      use_shuffle: False\n      s2_bands: [40, 39, 38]\n      naip_bands: [3, 0, 1]\n      n_s2_images: 1\n      io_backend:[\n        type: disk\n      ]\n    ]\n  ]\n  network_g:[\n    type: SSR_RRDBNet\n    num_in_ch: 3\n    num_out_ch: 3\n    num_feat: 64\n    num_block: 23\n    num_grow_ch: 32\n  ]\n  network_d:[\n    type: OSMObjDiscriminator\n    num_in_ch: 6\n    num_feat: 64\n    skip_connection: True\n  ]\n  path:[\n    pretrain_network_g: weights/esrgan_1S2.pth\n    param_key_g: params_ema\n    strict_load_g: False\n    param_key_d: params\n    strict_load_d: True\n    resume_state: None\n    visualization: /kaggle/working/satlas-SR-location-embeddings/experiments/osm-obj-esrgan-nir/visualization\n    experiments_root: /kaggle/working/satlas-SR-location-embeddings/experiments/osm-obj-esrgan-nir\n    models: /kaggle/working/satlas-SR-location-embeddings/experiments/osm-obj-esrgan-nir/models\n    training_states: /kaggle/working/satlas-SR-location-embeddings/experiments/osm-obj-esrgan-nir/training_states\n    log: /kaggle/working/satlas-SR-location-embeddings/experiments/osm-obj-esrgan-nir\n  ]\n  train:[\n    ema_decay: 0.999\n    optim_g:[\n      type: Adam\n      lr: 0.0001\n      weight_decay: 0\n      betas: [0.9, 0.99]\n    ]\n    optim_d:[\n      type: Adam\n      lr: 0.0001\n      weight_decay: 0\n      betas: [0.9, 0.99]\n    ]\n    scheduler:[\n      type: MultiStepLR\n      milestones: [10000]\n      gamma: 0.5\n    ]\n    total_iter: 100000\n    warmup_iter: -1\n    pixel_opt:[\n      type: L1Loss\n      loss_weight: 1.0\n      reduction: mean\n    ]\n    perceptual_opt:[\n      type: PerceptualLoss\n      layer_weights:[\n        conv1_2: 0.1\n        conv2_2: 0.1\n        conv3_4: 1\n        conv4_4: 1\n        conv5_4: 1\n      ]\n      vgg_type: vgg19\n      use_input_norm: True\n      perceptual_weight: 1.0\n      style_weight: 0\n      range_norm: False\n      criterion: l1\n    ]\n    gan_opt:[\n      type: GANLoss\n      gan_type: vanilla\n      real_label_val: 1.0\n      fake_label_val: 0.0\n      loss_weight: 0.1\n    ]\n    clip_opt:[\n      type: CLIPLoss\n      clip_loss_model: ViT-B-16-SigLIP-256\n    ]\n    net_d_iters: 1\n    net_d_init_iters: 0\n  ]\n  val:[\n    val_freq: 500.0\n    save_img: True\n    pbar: True\n    metrics:[\n      psnr:[\n        type: calculate_psnr\n        crop_border: 4\n        test_y_channel: False\n      ]\n      ssim:[\n        type: calculate_ssim\n        crop_border: 4\n        test_y_channel: False\n      ]\n      cpsnr:[\n        type: calculate_cpsnr\n        crop_border: 4\n        test_y_channel: False\n      ]\n      clipscore:[\n        type: calculate_clipscore\n        clip_model: clip-ViT-B/16\n      ]\n    ]\n  ]\n  test:[\n    save_img: True\n    metrics:[\n      psnr:[\n        type: calculate_psnr\n        crop_border: 4\n        test_y_channel: False\n      ]\n      ssim:[\n        type: calculate_ssim\n        crop_border: 4\n        test_y_channel: False\n      ]\n      cpsnr:[\n        type: calculate_cpsnr\n        crop_border: 4\n        test_y_channel: False\n      ]\n      lpips:[\n        type: calculate_lpips\n        lpips_model: vgg\n      ]\n      clipscore:[\n        type: calculate_clipscore\n        clip_model: siglip-ViT-SO400M-14\n      ]\n    ]\n  ]\n  logger:[\n    print_freq: 10\n    save_checkpoint_freq: 500.0\n    use_tb_logger: True\n    wandb:[\n      project: multisat\n      resume_id: None\n    ]\n  ]\n  dist_params:[\n    backend: nccl\n    port: 29500\n  ]\n  dist: False\n  rank: 0\n  world_size: 1\n  auto_resume: False\n  is_train: True\n  root_path: /kaggle/working/satlas-SR-location-embeddings\n\n\u001B[34m\u001B[1mwandb\u001B[0m: Currently logged in as: \u001B[33meivankin\u001B[0m (\u001B[33meivankin-innopolis-university\u001B[0m) to \u001B[32mhttps://api.wandb.ai\u001B[0m. Use \u001B[1m`wandb login --relogin`\u001B[0m to force relogin\n2025-05-25 16:44:17.221789: E external/local_xla/xla/stream_executor/cuda/cuda_fft.cc:477] Unable to register cuFFT factory: Attempting to register factory for plugin cuFFT when one has already been registered\nWARNING: All log messages before absl::InitializeLog() is called are written to STDERR\nE0000 00:00:1748191457.240401     385 cuda_dnn.cc:8310] Unable to register cuDNN factory: Attempting to register factory for plugin cuDNN when one has already been registered\nE0000 00:00:1748191457.245755     385 cuda_blas.cc:1418] Unable to register cuBLAS factory: Attempting to register factory for plugin cuBLAS when one has already been registered\n\u001B[34m\u001B[1mwandb\u001B[0m: Tracking run with wandb version 0.19.9\n\u001B[34m\u001B[1mwandb\u001B[0m: Run data is saved locally in \u001B[35m\u001B[1m/kaggle/working/satlas-SR-location-embeddings/wandb/run-20250525_164416-xshx7r4j\u001B[0m\n\u001B[34m\u001B[1mwandb\u001B[0m: Run \u001B[1m`wandb offline`\u001B[0m to turn off syncing.\n\u001B[34m\u001B[1mwandb\u001B[0m: Syncing run \u001B[33mosm-obj-esrgan-nir\u001B[0m\n\u001B[34m\u001B[1mwandb\u001B[0m: ⭐️ View project at \u001B[34m\u001B[4mhttps://wandb.ai/eivankin-innopolis-university/multisat\u001B[0m\n\u001B[34m\u001B[1mwandb\u001B[0m: 🚀 View run at \u001B[34m\u001B[4mhttps://wandb.ai/eivankin-innopolis-university/multisat/runs/xshx7r4j\u001B[0m\n2025-05-25 16:44:22,081 INFO: Use wandb logger with id=xshx7r4j; project=multisat.\nNumber of datapoints for split  train :  4056\n2025-05-25 16:44:26,718 INFO: Dataset [S2NAIPDataset] - train is built.\n2025-05-25 16:44:26,719 INFO: Training statistics:\n\tNumber of train images: 4056\n\tDataset enlarge ratio: 1\n\tBatch size per gpu: 8\n\tWorld size (gpu number): 1\n\tRequire iter number per epoch: 507\n\tTotal epochs: 198; iters: 100000.\nNumber of datapoints for split  val :  255\n2025-05-25 16:44:26,873 INFO: Dataset [S2NAIPDataset] - validation is built.\n2025-05-25 16:44:26,873 INFO: Number of val images/folders in validation: 255\n2025-05-25 16:44:27,171 INFO: Network [SSR_RRDBNet] is created.\n2025-05-25 16:44:27,233 INFO: Network: SSR_RRDBNet, with parameters: 16,697,987\n2025-05-25 16:44:27,233 INFO: SSR_RRDBNet(\n  (conv_first): Conv2d(3, 64, kernel_size=(3, 3), stride=(1, 1), padding=(1, 1))\n  (body): Sequential(\n    (0): RRDB(\n      (rdb1): ResidualDenseBlock(\n        (conv1): Conv2d(64, 32, kernel_size=(3, 3), stride=(1, 1), padding=(1, 1))\n        (conv2): Conv2d(96, 32, kernel_size=(3, 3), stride=(1, 1), padding=(1, 1))\n        (conv3): Conv2d(128, 32, kernel_size=(3, 3), stride=(1, 1), padding=(1, 1))\n        (conv4): Conv2d(160, 32, kernel_size=(3, 3), stride=(1, 1), padding=(1, 1))\n        (conv5): Conv2d(192, 64, kernel_size=(3, 3), stride=(1, 1), padding=(1, 1))\n        (lrelu): LeakyReLU(negative_slope=0.2, inplace=True)\n      )\n      (rdb2): ResidualDenseBlock(\n        (conv1): Conv2d(64, 32, kernel_size=(3, 3), stride=(1, 1), padding=(1, 1))\n        (conv2): Conv2d(96, 32, kernel_size=(3, 3), stride=(1, 1), padding=(1, 1))\n        (conv3): Conv2d(128, 32, kernel_size=(3, 3), stride=(1, 1), padding=(1, 1))\n        (conv4): Conv2d(160, 32, kernel_size=(3, 3), stride=(1, 1), padding=(1, 1))\n        (conv5): Conv2d(192, 64, kernel_size=(3, 3), stride=(1, 1), padding=(1, 1))\n        (lrelu): LeakyReLU(negative_slope=0.2, inplace=True)\n      )\n      (rdb3): ResidualDenseBlock(\n        (conv1): Conv2d(64, 32, kernel_size=(3, 3), stride=(1, 1), padding=(1, 1))\n        (conv2): Conv2d(96, 32, kernel_size=(3, 3), stride=(1, 1), padding=(1, 1))\n        (conv3): Conv2d(128, 32, kernel_size=(3, 3), stride=(1, 1), padding=(1, 1))\n        (conv4): Conv2d(160, 32, kernel_size=(3, 3), stride=(1, 1), padding=(1, 1))\n        (conv5): Conv2d(192, 64, kernel_size=(3, 3), stride=(1, 1), padding=(1, 1))\n        (lrelu): LeakyReLU(negative_slope=0.2, inplace=True)\n      )\n    )\n    (1): RRDB(\n      (rdb1): ResidualDenseBlock(\n        (conv1): Conv2d(64, 32, kernel_size=(3, 3), stride=(1, 1), padding=(1, 1))\n        (conv2): Conv2d(96, 32, kernel_size=(3, 3), stride=(1, 1), padding=(1, 1))\n        (conv3): Conv2d(128, 32, kernel_size=(3, 3), stride=(1, 1), padding=(1, 1))\n        (conv4): Conv2d(160, 32, kernel_size=(3, 3), stride=(1, 1), padding=(1, 1))\n        (conv5): Conv2d(192, 64, kernel_size=(3, 3), stride=(1, 1), padding=(1, 1))\n        (lrelu): LeakyReLU(negative_slope=0.2, inplace=True)\n      )\n      (rdb2): ResidualDenseBlock(\n        (conv1): Conv2d(64, 32, kernel_size=(3, 3), stride=(1, 1), padding=(1, 1))\n        (conv2): Conv2d(96, 32, kernel_size=(3, 3), stride=(1, 1), padding=(1, 1))\n        (conv3): Conv2d(128, 32, kernel_size=(3, 3), stride=(1, 1), padding=(1, 1))\n        (conv4): Conv2d(160, 32, kernel_size=(3, 3), stride=(1, 1), padding=(1, 1))\n        (conv5): Conv2d(192, 64, kernel_size=(3, 3), stride=(1, 1), padding=(1, 1))\n        (lrelu): LeakyReLU(negative_slope=0.2, inplace=True)\n      )\n      (rdb3): ResidualDenseBlock(\n        (conv1): Conv2d(64, 32, kernel_size=(3, 3), stride=(1, 1), padding=(1, 1))\n        (conv2): Conv2d(96, 32, kernel_size=(3, 3), stride=(1, 1), padding=(1, 1))\n        (conv3): Conv2d(128, 32, kernel_size=(3, 3), stride=(1, 1), padding=(1, 1))\n        (conv4): Conv2d(160, 32, kernel_size=(3, 3), stride=(1, 1), padding=(1, 1))\n        (conv5): Conv2d(192, 64, kernel_size=(3, 3), stride=(1, 1), padding=(1, 1))\n        (lrelu): LeakyReLU(negative_slope=0.2, inplace=True)\n      )\n    )\n    (2): RRDB(\n      (rdb1): ResidualDenseBlock(\n        (conv1): Conv2d(64, 32, kernel_size=(3, 3), stride=(1, 1), padding=(1, 1))\n        (conv2): Conv2d(96, 32, kernel_size=(3, 3), stride=(1, 1), padding=(1, 1))\n        (conv3): Conv2d(128, 32, kernel_size=(3, 3), stride=(1, 1), padding=(1, 1))\n        (conv4): Conv2d(160, 32, kernel_size=(3, 3), stride=(1, 1), padding=(1, 1))\n        (conv5): Conv2d(192, 64, kernel_size=(3, 3), stride=(1, 1), padding=(1, 1))\n        (lrelu): LeakyReLU(negative_slope=0.2, inplace=True)\n      )\n      (rdb2): ResidualDenseBlock(\n        (conv1): Conv2d(64, 32, kernel_size=(3, 3), stride=(1, 1), padding=(1, 1))\n        (conv2): Conv2d(96, 32, kernel_size=(3, 3), stride=(1, 1), padding=(1, 1))\n        (conv3): Conv2d(128, 32, kernel_size=(3, 3), stride=(1, 1), padding=(1, 1))\n        (conv4): Conv2d(160, 32, kernel_size=(3, 3), stride=(1, 1), padding=(1, 1))\n        (conv5): Conv2d(192, 64, kernel_size=(3, 3), stride=(1, 1), padding=(1, 1))\n        (lrelu): LeakyReLU(negative_slope=0.2, inplace=True)\n      )\n      (rdb3): ResidualDenseBlock(\n        (conv1): Conv2d(64, 32, kernel_size=(3, 3), stride=(1, 1), padding=(1, 1))\n        (conv2): Conv2d(96, 32, kernel_size=(3, 3), stride=(1, 1), padding=(1, 1))\n        (conv3): Conv2d(128, 32, kernel_size=(3, 3), stride=(1, 1), padding=(1, 1))\n        (conv4): Conv2d(160, 32, kernel_size=(3, 3), stride=(1, 1), padding=(1, 1))\n        (conv5): Conv2d(192, 64, kernel_size=(3, 3), stride=(1, 1), padding=(1, 1))\n        (lrelu): LeakyReLU(negative_slope=0.2, inplace=True)\n      )\n    )\n    (3): RRDB(\n      (rdb1): ResidualDenseBlock(\n        (conv1): Conv2d(64, 32, kernel_size=(3, 3), stride=(1, 1), padding=(1, 1))\n        (conv2): Conv2d(96, 32, kernel_size=(3, 3), stride=(1, 1), padding=(1, 1))\n        (conv3): Conv2d(128, 32, kernel_size=(3, 3), stride=(1, 1), padding=(1, 1))\n        (conv4): Conv2d(160, 32, kernel_size=(3, 3), stride=(1, 1), padding=(1, 1))\n        (conv5): Conv2d(192, 64, kernel_size=(3, 3), stride=(1, 1), padding=(1, 1))\n        (lrelu): LeakyReLU(negative_slope=0.2, inplace=True)\n      )\n      (rdb2): ResidualDenseBlock(\n        (conv1): Conv2d(64, 32, kernel_size=(3, 3), stride=(1, 1), padding=(1, 1))\n        (conv2): Conv2d(96, 32, kernel_size=(3, 3), stride=(1, 1), padding=(1, 1))\n        (conv3): Conv2d(128, 32, kernel_size=(3, 3), stride=(1, 1), padding=(1, 1))\n        (conv4): Conv2d(160, 32, kernel_size=(3, 3), stride=(1, 1), padding=(1, 1))\n        (conv5): Conv2d(192, 64, kernel_size=(3, 3), stride=(1, 1), padding=(1, 1))\n        (lrelu): LeakyReLU(negative_slope=0.2, inplace=True)\n      )\n      (rdb3): ResidualDenseBlock(\n        (conv1): Conv2d(64, 32, kernel_size=(3, 3), stride=(1, 1), padding=(1, 1))\n        (conv2): Conv2d(96, 32, kernel_size=(3, 3), stride=(1, 1), padding=(1, 1))\n        (conv3): Conv2d(128, 32, kernel_size=(3, 3), stride=(1, 1), padding=(1, 1))\n        (conv4): Conv2d(160, 32, kernel_size=(3, 3), stride=(1, 1), padding=(1, 1))\n        (conv5): Conv2d(192, 64, kernel_size=(3, 3), stride=(1, 1), padding=(1, 1))\n        (lrelu): LeakyReLU(negative_slope=0.2, inplace=True)\n      )\n    )\n    (4): RRDB(\n      (rdb1): ResidualDenseBlock(\n        (conv1): Conv2d(64, 32, kernel_size=(3, 3), stride=(1, 1), padding=(1, 1))\n        (conv2): Conv2d(96, 32, kernel_size=(3, 3), stride=(1, 1), padding=(1, 1))\n        (conv3): Conv2d(128, 32, kernel_size=(3, 3), stride=(1, 1), padding=(1, 1))\n        (conv4): Conv2d(160, 32, kernel_size=(3, 3), stride=(1, 1), padding=(1, 1))\n        (conv5): Conv2d(192, 64, kernel_size=(3, 3), stride=(1, 1), padding=(1, 1))\n        (lrelu): LeakyReLU(negative_slope=0.2, inplace=True)\n      )\n      (rdb2): ResidualDenseBlock(\n        (conv1): Conv2d(64, 32, kernel_size=(3, 3), stride=(1, 1), padding=(1, 1))\n        (conv2): Conv2d(96, 32, kernel_size=(3, 3), stride=(1, 1), padding=(1, 1))\n        (conv3): Conv2d(128, 32, kernel_size=(3, 3), stride=(1, 1), padding=(1, 1))\n        (conv4): Conv2d(160, 32, kernel_size=(3, 3), stride=(1, 1), padding=(1, 1))\n        (conv5): Conv2d(192, 64, kernel_size=(3, 3), stride=(1, 1), padding=(1, 1))\n        (lrelu): LeakyReLU(negative_slope=0.2, inplace=True)\n      )\n      (rdb3): ResidualDenseBlock(\n        (conv1): Conv2d(64, 32, kernel_size=(3, 3), stride=(1, 1), padding=(1, 1))\n        (conv2): Conv2d(96, 32, kernel_size=(3, 3), stride=(1, 1), padding=(1, 1))\n        (conv3): Conv2d(128, 32, kernel_size=(3, 3), stride=(1, 1), padding=(1, 1))\n        (conv4): Conv2d(160, 32, kernel_size=(3, 3), stride=(1, 1), padding=(1, 1))\n        (conv5): Conv2d(192, 64, kernel_size=(3, 3), stride=(1, 1), padding=(1, 1))\n        (lrelu): LeakyReLU(negative_slope=0.2, inplace=True)\n      )\n    )\n    (5): RRDB(\n      (rdb1): ResidualDenseBlock(\n        (conv1): Conv2d(64, 32, kernel_size=(3, 3), stride=(1, 1), padding=(1, 1))\n        (conv2): Conv2d(96, 32, kernel_size=(3, 3), stride=(1, 1), padding=(1, 1))\n        (conv3): Conv2d(128, 32, kernel_size=(3, 3), stride=(1, 1), padding=(1, 1))\n        (conv4): Conv2d(160, 32, kernel_size=(3, 3), stride=(1, 1), padding=(1, 1))\n        (conv5): Conv2d(192, 64, kernel_size=(3, 3), stride=(1, 1), padding=(1, 1))\n        (lrelu): LeakyReLU(negative_slope=0.2, inplace=True)\n      )\n      (rdb2): ResidualDenseBlock(\n        (conv1): Conv2d(64, 32, kernel_size=(3, 3), stride=(1, 1), padding=(1, 1))\n        (conv2): Conv2d(96, 32, kernel_size=(3, 3), stride=(1, 1), padding=(1, 1))\n        (conv3): Conv2d(128, 32, kernel_size=(3, 3), stride=(1, 1), padding=(1, 1))\n        (conv4): Conv2d(160, 32, kernel_size=(3, 3), stride=(1, 1), padding=(1, 1))\n        (conv5): Conv2d(192, 64, kernel_size=(3, 3), stride=(1, 1), padding=(1, 1))\n        (lrelu): LeakyReLU(negative_slope=0.2, inplace=True)\n      )\n      (rdb3): ResidualDenseBlock(\n        (conv1): Conv2d(64, 32, kernel_size=(3, 3), stride=(1, 1), padding=(1, 1))\n        (conv2): Conv2d(96, 32, kernel_size=(3, 3), stride=(1, 1), padding=(1, 1))\n        (conv3): Conv2d(128, 32, kernel_size=(3, 3), stride=(1, 1), padding=(1, 1))\n        (conv4): Conv2d(160, 32, kernel_size=(3, 3), stride=(1, 1), padding=(1, 1))\n        (conv5): Conv2d(192, 64, kernel_size=(3, 3), stride=(1, 1), padding=(1, 1))\n        (lrelu): LeakyReLU(negative_slope=0.2, inplace=True)\n      )\n    )\n    (6): RRDB(\n      (rdb1): ResidualDenseBlock(\n        (conv1): Conv2d(64, 32, kernel_size=(3, 3), stride=(1, 1), padding=(1, 1))\n        (conv2): Conv2d(96, 32, kernel_size=(3, 3), stride=(1, 1), padding=(1, 1))\n        (conv3): Conv2d(128, 32, kernel_size=(3, 3), stride=(1, 1), padding=(1, 1))\n        (conv4): Conv2d(160, 32, kernel_size=(3, 3), stride=(1, 1), padding=(1, 1))\n        (conv5): Conv2d(192, 64, kernel_size=(3, 3), stride=(1, 1), padding=(1, 1))\n        (lrelu): LeakyReLU(negative_slope=0.2, inplace=True)\n      )\n      (rdb2): ResidualDenseBlock(\n        (conv1): Conv2d(64, 32, kernel_size=(3, 3), stride=(1, 1), padding=(1, 1))\n        (conv2): Conv2d(96, 32, kernel_size=(3, 3), stride=(1, 1), padding=(1, 1))\n        (conv3): Conv2d(128, 32, kernel_size=(3, 3), stride=(1, 1), padding=(1, 1))\n        (conv4): Conv2d(160, 32, kernel_size=(3, 3), stride=(1, 1), padding=(1, 1))\n        (conv5): Conv2d(192, 64, kernel_size=(3, 3), stride=(1, 1), padding=(1, 1))\n        (lrelu): LeakyReLU(negative_slope=0.2, inplace=True)\n      )\n      (rdb3): ResidualDenseBlock(\n        (conv1): Conv2d(64, 32, kernel_size=(3, 3), stride=(1, 1), padding=(1, 1))\n        (conv2): Conv2d(96, 32, kernel_size=(3, 3), stride=(1, 1), padding=(1, 1))\n        (conv3): Conv2d(128, 32, kernel_size=(3, 3), stride=(1, 1), padding=(1, 1))\n        (conv4): Conv2d(160, 32, kernel_size=(3, 3), stride=(1, 1), padding=(1, 1))\n        (conv5): Conv2d(192, 64, kernel_size=(3, 3), stride=(1, 1), padding=(1, 1))\n        (lrelu): LeakyReLU(negative_slope=0.2, inplace=True)\n      )\n    )\n    (7): RRDB(\n      (rdb1): ResidualDenseBlock(\n        (conv1): Conv2d(64, 32, kernel_size=(3, 3), stride=(1, 1), padding=(1, 1))\n        (conv2): Conv2d(96, 32, kernel_size=(3, 3), stride=(1, 1), padding=(1, 1))\n        (conv3): Conv2d(128, 32, kernel_size=(3, 3), stride=(1, 1), padding=(1, 1))\n        (conv4): Conv2d(160, 32, kernel_size=(3, 3), stride=(1, 1), padding=(1, 1))\n        (conv5): Conv2d(192, 64, kernel_size=(3, 3), stride=(1, 1), padding=(1, 1))\n        (lrelu): LeakyReLU(negative_slope=0.2, inplace=True)\n      )\n      (rdb2): ResidualDenseBlock(\n        (conv1): Conv2d(64, 32, kernel_size=(3, 3), stride=(1, 1), padding=(1, 1))\n        (conv2): Conv2d(96, 32, kernel_size=(3, 3), stride=(1, 1), padding=(1, 1))\n        (conv3): Conv2d(128, 32, kernel_size=(3, 3), stride=(1, 1), padding=(1, 1))\n        (conv4): Conv2d(160, 32, kernel_size=(3, 3), stride=(1, 1), padding=(1, 1))\n        (conv5): Conv2d(192, 64, kernel_size=(3, 3), stride=(1, 1), padding=(1, 1))\n        (lrelu): LeakyReLU(negative_slope=0.2, inplace=True)\n      )\n      (rdb3): ResidualDenseBlock(\n        (conv1): Conv2d(64, 32, kernel_size=(3, 3), stride=(1, 1), padding=(1, 1))\n        (conv2): Conv2d(96, 32, kernel_size=(3, 3), stride=(1, 1), padding=(1, 1))\n        (conv3): Conv2d(128, 32, kernel_size=(3, 3), stride=(1, 1), padding=(1, 1))\n        (conv4): Conv2d(160, 32, kernel_size=(3, 3), stride=(1, 1), padding=(1, 1))\n        (conv5): Conv2d(192, 64, kernel_size=(3, 3), stride=(1, 1), padding=(1, 1))\n        (lrelu): LeakyReLU(negative_slope=0.2, inplace=True)\n      )\n    )\n    (8): RRDB(\n      (rdb1): ResidualDenseBlock(\n        (conv1): Conv2d(64, 32, kernel_size=(3, 3), stride=(1, 1), padding=(1, 1))\n        (conv2): Conv2d(96, 32, kernel_size=(3, 3), stride=(1, 1), padding=(1, 1))\n        (conv3): Conv2d(128, 32, kernel_size=(3, 3), stride=(1, 1), padding=(1, 1))\n        (conv4): Conv2d(160, 32, kernel_size=(3, 3), stride=(1, 1), padding=(1, 1))\n        (conv5): Conv2d(192, 64, kernel_size=(3, 3), stride=(1, 1), padding=(1, 1))\n        (lrelu): LeakyReLU(negative_slope=0.2, inplace=True)\n      )\n      (rdb2): ResidualDenseBlock(\n        (conv1): Conv2d(64, 32, kernel_size=(3, 3), stride=(1, 1), padding=(1, 1))\n        (conv2): Conv2d(96, 32, kernel_size=(3, 3), stride=(1, 1), padding=(1, 1))\n        (conv3): Conv2d(128, 32, kernel_size=(3, 3), stride=(1, 1), padding=(1, 1))\n        (conv4): Conv2d(160, 32, kernel_size=(3, 3), stride=(1, 1), padding=(1, 1))\n        (conv5): Conv2d(192, 64, kernel_size=(3, 3), stride=(1, 1), padding=(1, 1))\n        (lrelu): LeakyReLU(negative_slope=0.2, inplace=True)\n      )\n      (rdb3): ResidualDenseBlock(\n        (conv1): Conv2d(64, 32, kernel_size=(3, 3), stride=(1, 1), padding=(1, 1))\n        (conv2): Conv2d(96, 32, kernel_size=(3, 3), stride=(1, 1), padding=(1, 1))\n        (conv3): Conv2d(128, 32, kernel_size=(3, 3), stride=(1, 1), padding=(1, 1))\n        (conv4): Conv2d(160, 32, kernel_size=(3, 3), stride=(1, 1), padding=(1, 1))\n        (conv5): Conv2d(192, 64, kernel_size=(3, 3), stride=(1, 1), padding=(1, 1))\n        (lrelu): LeakyReLU(negative_slope=0.2, inplace=True)\n      )\n    )\n    (9): RRDB(\n      (rdb1): ResidualDenseBlock(\n        (conv1): Conv2d(64, 32, kernel_size=(3, 3), stride=(1, 1), padding=(1, 1))\n        (conv2): Conv2d(96, 32, kernel_size=(3, 3), stride=(1, 1), padding=(1, 1))\n        (conv3): Conv2d(128, 32, kernel_size=(3, 3), stride=(1, 1), padding=(1, 1))\n        (conv4): Conv2d(160, 32, kernel_size=(3, 3), stride=(1, 1), padding=(1, 1))\n        (conv5): Conv2d(192, 64, kernel_size=(3, 3), stride=(1, 1), padding=(1, 1))\n        (lrelu): LeakyReLU(negative_slope=0.2, inplace=True)\n      )\n      (rdb2): ResidualDenseBlock(\n        (conv1): Conv2d(64, 32, kernel_size=(3, 3), stride=(1, 1), padding=(1, 1))\n        (conv2): Conv2d(96, 32, kernel_size=(3, 3), stride=(1, 1), padding=(1, 1))\n        (conv3): Conv2d(128, 32, kernel_size=(3, 3), stride=(1, 1), padding=(1, 1))\n        (conv4): Conv2d(160, 32, kernel_size=(3, 3), stride=(1, 1), padding=(1, 1))\n        (conv5): Conv2d(192, 64, kernel_size=(3, 3), stride=(1, 1), padding=(1, 1))\n        (lrelu): LeakyReLU(negative_slope=0.2, inplace=True)\n      )\n      (rdb3): ResidualDenseBlock(\n        (conv1): Conv2d(64, 32, kernel_size=(3, 3), stride=(1, 1), padding=(1, 1))\n        (conv2): Conv2d(96, 32, kernel_size=(3, 3), stride=(1, 1), padding=(1, 1))\n        (conv3): Conv2d(128, 32, kernel_size=(3, 3), stride=(1, 1), padding=(1, 1))\n        (conv4): Conv2d(160, 32, kernel_size=(3, 3), stride=(1, 1), padding=(1, 1))\n        (conv5): Conv2d(192, 64, kernel_size=(3, 3), stride=(1, 1), padding=(1, 1))\n        (lrelu): LeakyReLU(negative_slope=0.2, inplace=True)\n      )\n    )\n    (10): RRDB(\n      (rdb1): ResidualDenseBlock(\n        (conv1): Conv2d(64, 32, kernel_size=(3, 3), stride=(1, 1), padding=(1, 1))\n        (conv2): Conv2d(96, 32, kernel_size=(3, 3), stride=(1, 1), padding=(1, 1))\n        (conv3): Conv2d(128, 32, kernel_size=(3, 3), stride=(1, 1), padding=(1, 1))\n        (conv4): Conv2d(160, 32, kernel_size=(3, 3), stride=(1, 1), padding=(1, 1))\n        (conv5): Conv2d(192, 64, kernel_size=(3, 3), stride=(1, 1), padding=(1, 1))\n        (lrelu): LeakyReLU(negative_slope=0.2, inplace=True)\n      )\n      (rdb2): ResidualDenseBlock(\n        (conv1): Conv2d(64, 32, kernel_size=(3, 3), stride=(1, 1), padding=(1, 1))\n        (conv2): Conv2d(96, 32, kernel_size=(3, 3), stride=(1, 1), padding=(1, 1))\n        (conv3): Conv2d(128, 32, kernel_size=(3, 3), stride=(1, 1), padding=(1, 1))\n        (conv4): Conv2d(160, 32, kernel_size=(3, 3), stride=(1, 1), padding=(1, 1))\n        (conv5): Conv2d(192, 64, kernel_size=(3, 3), stride=(1, 1), padding=(1, 1))\n        (lrelu): LeakyReLU(negative_slope=0.2, inplace=True)\n      )\n      (rdb3): ResidualDenseBlock(\n        (conv1): Conv2d(64, 32, kernel_size=(3, 3), stride=(1, 1), padding=(1, 1))\n        (conv2): Conv2d(96, 32, kernel_size=(3, 3), stride=(1, 1), padding=(1, 1))\n        (conv3): Conv2d(128, 32, kernel_size=(3, 3), stride=(1, 1), padding=(1, 1))\n        (conv4): Conv2d(160, 32, kernel_size=(3, 3), stride=(1, 1), padding=(1, 1))\n        (conv5): Conv2d(192, 64, kernel_size=(3, 3), stride=(1, 1), padding=(1, 1))\n        (lrelu): LeakyReLU(negative_slope=0.2, inplace=True)\n      )\n    )\n    (11): RRDB(\n      (rdb1): ResidualDenseBlock(\n        (conv1): Conv2d(64, 32, kernel_size=(3, 3), stride=(1, 1), padding=(1, 1))\n        (conv2): Conv2d(96, 32, kernel_size=(3, 3), stride=(1, 1), padding=(1, 1))\n        (conv3): Conv2d(128, 32, kernel_size=(3, 3), stride=(1, 1), padding=(1, 1))\n        (conv4): Conv2d(160, 32, kernel_size=(3, 3), stride=(1, 1), padding=(1, 1))\n        (conv5): Conv2d(192, 64, kernel_size=(3, 3), stride=(1, 1), padding=(1, 1))\n        (lrelu): LeakyReLU(negative_slope=0.2, inplace=True)\n      )\n      (rdb2): ResidualDenseBlock(\n        (conv1): Conv2d(64, 32, kernel_size=(3, 3), stride=(1, 1), padding=(1, 1))\n        (conv2): Conv2d(96, 32, kernel_size=(3, 3), stride=(1, 1), padding=(1, 1))\n        (conv3): Conv2d(128, 32, kernel_size=(3, 3), stride=(1, 1), padding=(1, 1))\n        (conv4): Conv2d(160, 32, kernel_size=(3, 3), stride=(1, 1), padding=(1, 1))\n        (conv5): Conv2d(192, 64, kernel_size=(3, 3), stride=(1, 1), padding=(1, 1))\n        (lrelu): LeakyReLU(negative_slope=0.2, inplace=True)\n      )\n      (rdb3): ResidualDenseBlock(\n        (conv1): Conv2d(64, 32, kernel_size=(3, 3), stride=(1, 1), padding=(1, 1))\n        (conv2): Conv2d(96, 32, kernel_size=(3, 3), stride=(1, 1), padding=(1, 1))\n        (conv3): Conv2d(128, 32, kernel_size=(3, 3), stride=(1, 1), padding=(1, 1))\n        (conv4): Conv2d(160, 32, kernel_size=(3, 3), stride=(1, 1), padding=(1, 1))\n        (conv5): Conv2d(192, 64, kernel_size=(3, 3), stride=(1, 1), padding=(1, 1))\n        (lrelu): LeakyReLU(negative_slope=0.2, inplace=True)\n      )\n    )\n    (12): RRDB(\n      (rdb1): ResidualDenseBlock(\n        (conv1): Conv2d(64, 32, kernel_size=(3, 3), stride=(1, 1), padding=(1, 1))\n        (conv2): Conv2d(96, 32, kernel_size=(3, 3), stride=(1, 1), padding=(1, 1))\n        (conv3): Conv2d(128, 32, kernel_size=(3, 3), stride=(1, 1), padding=(1, 1))\n        (conv4): Conv2d(160, 32, kernel_size=(3, 3), stride=(1, 1), padding=(1, 1))\n        (conv5): Conv2d(192, 64, kernel_size=(3, 3), stride=(1, 1), padding=(1, 1))\n        (lrelu): LeakyReLU(negative_slope=0.2, inplace=True)\n      )\n      (rdb2): ResidualDenseBlock(\n        (conv1): Conv2d(64, 32, kernel_size=(3, 3), stride=(1, 1), padding=(1, 1))\n        (conv2): Conv2d(96, 32, kernel_size=(3, 3), stride=(1, 1), padding=(1, 1))\n        (conv3): Conv2d(128, 32, kernel_size=(3, 3), stride=(1, 1), padding=(1, 1))\n        (conv4): Conv2d(160, 32, kernel_size=(3, 3), stride=(1, 1), padding=(1, 1))\n        (conv5): Conv2d(192, 64, kernel_size=(3, 3), stride=(1, 1), padding=(1, 1))\n        (lrelu): LeakyReLU(negative_slope=0.2, inplace=True)\n      )\n      (rdb3): ResidualDenseBlock(\n        (conv1): Conv2d(64, 32, kernel_size=(3, 3), stride=(1, 1), padding=(1, 1))\n        (conv2): Conv2d(96, 32, kernel_size=(3, 3), stride=(1, 1), padding=(1, 1))\n        (conv3): Conv2d(128, 32, kernel_size=(3, 3), stride=(1, 1), padding=(1, 1))\n        (conv4): Conv2d(160, 32, kernel_size=(3, 3), stride=(1, 1), padding=(1, 1))\n        (conv5): Conv2d(192, 64, kernel_size=(3, 3), stride=(1, 1), padding=(1, 1))\n        (lrelu): LeakyReLU(negative_slope=0.2, inplace=True)\n      )\n    )\n    (13): RRDB(\n      (rdb1): ResidualDenseBlock(\n        (conv1): Conv2d(64, 32, kernel_size=(3, 3), stride=(1, 1), padding=(1, 1))\n        (conv2): Conv2d(96, 32, kernel_size=(3, 3), stride=(1, 1), padding=(1, 1))\n        (conv3): Conv2d(128, 32, kernel_size=(3, 3), stride=(1, 1), padding=(1, 1))\n        (conv4): Conv2d(160, 32, kernel_size=(3, 3), stride=(1, 1), padding=(1, 1))\n        (conv5): Conv2d(192, 64, kernel_size=(3, 3), stride=(1, 1), padding=(1, 1))\n        (lrelu): LeakyReLU(negative_slope=0.2, inplace=True)\n      )\n      (rdb2): ResidualDenseBlock(\n        (conv1): Conv2d(64, 32, kernel_size=(3, 3), stride=(1, 1), padding=(1, 1))\n        (conv2): Conv2d(96, 32, kernel_size=(3, 3), stride=(1, 1), padding=(1, 1))\n        (conv3): Conv2d(128, 32, kernel_size=(3, 3), stride=(1, 1), padding=(1, 1))\n        (conv4): Conv2d(160, 32, kernel_size=(3, 3), stride=(1, 1), padding=(1, 1))\n        (conv5): Conv2d(192, 64, kernel_size=(3, 3), stride=(1, 1), padding=(1, 1))\n        (lrelu): LeakyReLU(negative_slope=0.2, inplace=True)\n      )\n      (rdb3): ResidualDenseBlock(\n        (conv1): Conv2d(64, 32, kernel_size=(3, 3), stride=(1, 1), padding=(1, 1))\n        (conv2): Conv2d(96, 32, kernel_size=(3, 3), stride=(1, 1), padding=(1, 1))\n        (conv3): Conv2d(128, 32, kernel_size=(3, 3), stride=(1, 1), padding=(1, 1))\n        (conv4): Conv2d(160, 32, kernel_size=(3, 3), stride=(1, 1), padding=(1, 1))\n        (conv5): Conv2d(192, 64, kernel_size=(3, 3), stride=(1, 1), padding=(1, 1))\n        (lrelu): LeakyReLU(negative_slope=0.2, inplace=True)\n      )\n    )\n    (14): RRDB(\n      (rdb1): ResidualDenseBlock(\n        (conv1): Conv2d(64, 32, kernel_size=(3, 3), stride=(1, 1), padding=(1, 1))\n        (conv2): Conv2d(96, 32, kernel_size=(3, 3), stride=(1, 1), padding=(1, 1))\n        (conv3): Conv2d(128, 32, kernel_size=(3, 3), stride=(1, 1), padding=(1, 1))\n        (conv4): Conv2d(160, 32, kernel_size=(3, 3), stride=(1, 1), padding=(1, 1))\n        (conv5): Conv2d(192, 64, kernel_size=(3, 3), stride=(1, 1), padding=(1, 1))\n        (lrelu): LeakyReLU(negative_slope=0.2, inplace=True)\n      )\n      (rdb2): ResidualDenseBlock(\n        (conv1): Conv2d(64, 32, kernel_size=(3, 3), stride=(1, 1), padding=(1, 1))\n        (conv2): Conv2d(96, 32, kernel_size=(3, 3), stride=(1, 1), padding=(1, 1))\n        (conv3): Conv2d(128, 32, kernel_size=(3, 3), stride=(1, 1), padding=(1, 1))\n        (conv4): Conv2d(160, 32, kernel_size=(3, 3), stride=(1, 1), padding=(1, 1))\n        (conv5): Conv2d(192, 64, kernel_size=(3, 3), stride=(1, 1), padding=(1, 1))\n        (lrelu): LeakyReLU(negative_slope=0.2, inplace=True)\n      )\n      (rdb3): ResidualDenseBlock(\n        (conv1): Conv2d(64, 32, kernel_size=(3, 3), stride=(1, 1), padding=(1, 1))\n        (conv2): Conv2d(96, 32, kernel_size=(3, 3), stride=(1, 1), padding=(1, 1))\n        (conv3): Conv2d(128, 32, kernel_size=(3, 3), stride=(1, 1), padding=(1, 1))\n        (conv4): Conv2d(160, 32, kernel_size=(3, 3), stride=(1, 1), padding=(1, 1))\n        (conv5): Conv2d(192, 64, kernel_size=(3, 3), stride=(1, 1), padding=(1, 1))\n        (lrelu): LeakyReLU(negative_slope=0.2, inplace=True)\n      )\n    )\n    (15): RRDB(\n      (rdb1): ResidualDenseBlock(\n        (conv1): Conv2d(64, 32, kernel_size=(3, 3), stride=(1, 1), padding=(1, 1))\n        (conv2): Conv2d(96, 32, kernel_size=(3, 3), stride=(1, 1), padding=(1, 1))\n        (conv3): Conv2d(128, 32, kernel_size=(3, 3), stride=(1, 1), padding=(1, 1))\n        (conv4): Conv2d(160, 32, kernel_size=(3, 3), stride=(1, 1), padding=(1, 1))\n        (conv5): Conv2d(192, 64, kernel_size=(3, 3), stride=(1, 1), padding=(1, 1))\n        (lrelu): LeakyReLU(negative_slope=0.2, inplace=True)\n      )\n      (rdb2): ResidualDenseBlock(\n        (conv1): Conv2d(64, 32, kernel_size=(3, 3), stride=(1, 1), padding=(1, 1))\n        (conv2): Conv2d(96, 32, kernel_size=(3, 3), stride=(1, 1), padding=(1, 1))\n        (conv3): Conv2d(128, 32, kernel_size=(3, 3), stride=(1, 1), padding=(1, 1))\n        (conv4): Conv2d(160, 32, kernel_size=(3, 3), stride=(1, 1), padding=(1, 1))\n        (conv5): Conv2d(192, 64, kernel_size=(3, 3), stride=(1, 1), padding=(1, 1))\n        (lrelu): LeakyReLU(negative_slope=0.2, inplace=True)\n      )\n      (rdb3): ResidualDenseBlock(\n        (conv1): Conv2d(64, 32, kernel_size=(3, 3), stride=(1, 1), padding=(1, 1))\n        (conv2): Conv2d(96, 32, kernel_size=(3, 3), stride=(1, 1), padding=(1, 1))\n        (conv3): Conv2d(128, 32, kernel_size=(3, 3), stride=(1, 1), padding=(1, 1))\n        (conv4): Conv2d(160, 32, kernel_size=(3, 3), stride=(1, 1), padding=(1, 1))\n        (conv5): Conv2d(192, 64, kernel_size=(3, 3), stride=(1, 1), padding=(1, 1))\n        (lrelu): LeakyReLU(negative_slope=0.2, inplace=True)\n      )\n    )\n    (16): RRDB(\n      (rdb1): ResidualDenseBlock(\n        (conv1): Conv2d(64, 32, kernel_size=(3, 3), stride=(1, 1), padding=(1, 1))\n        (conv2): Conv2d(96, 32, kernel_size=(3, 3), stride=(1, 1), padding=(1, 1))\n        (conv3): Conv2d(128, 32, kernel_size=(3, 3), stride=(1, 1), padding=(1, 1))\n        (conv4): Conv2d(160, 32, kernel_size=(3, 3), stride=(1, 1), padding=(1, 1))\n        (conv5): Conv2d(192, 64, kernel_size=(3, 3), stride=(1, 1), padding=(1, 1))\n        (lrelu): LeakyReLU(negative_slope=0.2, inplace=True)\n      )\n      (rdb2): ResidualDenseBlock(\n        (conv1): Conv2d(64, 32, kernel_size=(3, 3), stride=(1, 1), padding=(1, 1))\n        (conv2): Conv2d(96, 32, kernel_size=(3, 3), stride=(1, 1), padding=(1, 1))\n        (conv3): Conv2d(128, 32, kernel_size=(3, 3), stride=(1, 1), padding=(1, 1))\n        (conv4): Conv2d(160, 32, kernel_size=(3, 3), stride=(1, 1), padding=(1, 1))\n        (conv5): Conv2d(192, 64, kernel_size=(3, 3), stride=(1, 1), padding=(1, 1))\n        (lrelu): LeakyReLU(negative_slope=0.2, inplace=True)\n      )\n      (rdb3): ResidualDenseBlock(\n        (conv1): Conv2d(64, 32, kernel_size=(3, 3), stride=(1, 1), padding=(1, 1))\n        (conv2): Conv2d(96, 32, kernel_size=(3, 3), stride=(1, 1), padding=(1, 1))\n        (conv3): Conv2d(128, 32, kernel_size=(3, 3), stride=(1, 1), padding=(1, 1))\n        (conv4): Conv2d(160, 32, kernel_size=(3, 3), stride=(1, 1), padding=(1, 1))\n        (conv5): Conv2d(192, 64, kernel_size=(3, 3), stride=(1, 1), padding=(1, 1))\n        (lrelu): LeakyReLU(negative_slope=0.2, inplace=True)\n      )\n    )\n    (17): RRDB(\n      (rdb1): ResidualDenseBlock(\n        (conv1): Conv2d(64, 32, kernel_size=(3, 3), stride=(1, 1), padding=(1, 1))\n        (conv2): Conv2d(96, 32, kernel_size=(3, 3), stride=(1, 1), padding=(1, 1))\n        (conv3): Conv2d(128, 32, kernel_size=(3, 3), stride=(1, 1), padding=(1, 1))\n        (conv4): Conv2d(160, 32, kernel_size=(3, 3), stride=(1, 1), padding=(1, 1))\n        (conv5): Conv2d(192, 64, kernel_size=(3, 3), stride=(1, 1), padding=(1, 1))\n        (lrelu): LeakyReLU(negative_slope=0.2, inplace=True)\n      )\n      (rdb2): ResidualDenseBlock(\n        (conv1): Conv2d(64, 32, kernel_size=(3, 3), stride=(1, 1), padding=(1, 1))\n        (conv2): Conv2d(96, 32, kernel_size=(3, 3), stride=(1, 1), padding=(1, 1))\n        (conv3): Conv2d(128, 32, kernel_size=(3, 3), stride=(1, 1), padding=(1, 1))\n        (conv4): Conv2d(160, 32, kernel_size=(3, 3), stride=(1, 1), padding=(1, 1))\n        (conv5): Conv2d(192, 64, kernel_size=(3, 3), stride=(1, 1), padding=(1, 1))\n        (lrelu): LeakyReLU(negative_slope=0.2, inplace=True)\n      )\n      (rdb3): ResidualDenseBlock(\n        (conv1): Conv2d(64, 32, kernel_size=(3, 3), stride=(1, 1), padding=(1, 1))\n        (conv2): Conv2d(96, 32, kernel_size=(3, 3), stride=(1, 1), padding=(1, 1))\n        (conv3): Conv2d(128, 32, kernel_size=(3, 3), stride=(1, 1), padding=(1, 1))\n        (conv4): Conv2d(160, 32, kernel_size=(3, 3), stride=(1, 1), padding=(1, 1))\n        (conv5): Conv2d(192, 64, kernel_size=(3, 3), stride=(1, 1), padding=(1, 1))\n        (lrelu): LeakyReLU(negative_slope=0.2, inplace=True)\n      )\n    )\n    (18): RRDB(\n      (rdb1): ResidualDenseBlock(\n        (conv1): Conv2d(64, 32, kernel_size=(3, 3), stride=(1, 1), padding=(1, 1))\n        (conv2): Conv2d(96, 32, kernel_size=(3, 3), stride=(1, 1), padding=(1, 1))\n        (conv3): Conv2d(128, 32, kernel_size=(3, 3), stride=(1, 1), padding=(1, 1))\n        (conv4): Conv2d(160, 32, kernel_size=(3, 3), stride=(1, 1), padding=(1, 1))\n        (conv5): Conv2d(192, 64, kernel_size=(3, 3), stride=(1, 1), padding=(1, 1))\n        (lrelu): LeakyReLU(negative_slope=0.2, inplace=True)\n      )\n      (rdb2): ResidualDenseBlock(\n        (conv1): Conv2d(64, 32, kernel_size=(3, 3), stride=(1, 1), padding=(1, 1))\n        (conv2): Conv2d(96, 32, kernel_size=(3, 3), stride=(1, 1), padding=(1, 1))\n        (conv3): Conv2d(128, 32, kernel_size=(3, 3), stride=(1, 1), padding=(1, 1))\n        (conv4): Conv2d(160, 32, kernel_size=(3, 3), stride=(1, 1), padding=(1, 1))\n        (conv5): Conv2d(192, 64, kernel_size=(3, 3), stride=(1, 1), padding=(1, 1))\n        (lrelu): LeakyReLU(negative_slope=0.2, inplace=True)\n      )\n      (rdb3): ResidualDenseBlock(\n        (conv1): Conv2d(64, 32, kernel_size=(3, 3), stride=(1, 1), padding=(1, 1))\n        (conv2): Conv2d(96, 32, kernel_size=(3, 3), stride=(1, 1), padding=(1, 1))\n        (conv3): Conv2d(128, 32, kernel_size=(3, 3), stride=(1, 1), padding=(1, 1))\n        (conv4): Conv2d(160, 32, kernel_size=(3, 3), stride=(1, 1), padding=(1, 1))\n        (conv5): Conv2d(192, 64, kernel_size=(3, 3), stride=(1, 1), padding=(1, 1))\n        (lrelu): LeakyReLU(negative_slope=0.2, inplace=True)\n      )\n    )\n    (19): RRDB(\n      (rdb1): ResidualDenseBlock(\n        (conv1): Conv2d(64, 32, kernel_size=(3, 3), stride=(1, 1), padding=(1, 1))\n        (conv2): Conv2d(96, 32, kernel_size=(3, 3), stride=(1, 1), padding=(1, 1))\n        (conv3): Conv2d(128, 32, kernel_size=(3, 3), stride=(1, 1), padding=(1, 1))\n        (conv4): Conv2d(160, 32, kernel_size=(3, 3), stride=(1, 1), padding=(1, 1))\n        (conv5): Conv2d(192, 64, kernel_size=(3, 3), stride=(1, 1), padding=(1, 1))\n        (lrelu): LeakyReLU(negative_slope=0.2, inplace=True)\n      )\n      (rdb2): ResidualDenseBlock(\n        (conv1): Conv2d(64, 32, kernel_size=(3, 3), stride=(1, 1), padding=(1, 1))\n        (conv2): Conv2d(96, 32, kernel_size=(3, 3), stride=(1, 1), padding=(1, 1))\n        (conv3): Conv2d(128, 32, kernel_size=(3, 3), stride=(1, 1), padding=(1, 1))\n        (conv4): Conv2d(160, 32, kernel_size=(3, 3), stride=(1, 1), padding=(1, 1))\n        (conv5): Conv2d(192, 64, kernel_size=(3, 3), stride=(1, 1), padding=(1, 1))\n        (lrelu): LeakyReLU(negative_slope=0.2, inplace=True)\n      )\n      (rdb3): ResidualDenseBlock(\n        (conv1): Conv2d(64, 32, kernel_size=(3, 3), stride=(1, 1), padding=(1, 1))\n        (conv2): Conv2d(96, 32, kernel_size=(3, 3), stride=(1, 1), padding=(1, 1))\n        (conv3): Conv2d(128, 32, kernel_size=(3, 3), stride=(1, 1), padding=(1, 1))\n        (conv4): Conv2d(160, 32, kernel_size=(3, 3), stride=(1, 1), padding=(1, 1))\n        (conv5): Conv2d(192, 64, kernel_size=(3, 3), stride=(1, 1), padding=(1, 1))\n        (lrelu): LeakyReLU(negative_slope=0.2, inplace=True)\n      )\n    )\n    (20): RRDB(\n      (rdb1): ResidualDenseBlock(\n        (conv1): Conv2d(64, 32, kernel_size=(3, 3), stride=(1, 1), padding=(1, 1))\n        (conv2): Conv2d(96, 32, kernel_size=(3, 3), stride=(1, 1), padding=(1, 1))\n        (conv3): Conv2d(128, 32, kernel_size=(3, 3), stride=(1, 1), padding=(1, 1))\n        (conv4): Conv2d(160, 32, kernel_size=(3, 3), stride=(1, 1), padding=(1, 1))\n        (conv5): Conv2d(192, 64, kernel_size=(3, 3), stride=(1, 1), padding=(1, 1))\n        (lrelu): LeakyReLU(negative_slope=0.2, inplace=True)\n      )\n      (rdb2): ResidualDenseBlock(\n        (conv1): Conv2d(64, 32, kernel_size=(3, 3), stride=(1, 1), padding=(1, 1))\n        (conv2): Conv2d(96, 32, kernel_size=(3, 3), stride=(1, 1), padding=(1, 1))\n        (conv3): Conv2d(128, 32, kernel_size=(3, 3), stride=(1, 1), padding=(1, 1))\n        (conv4): Conv2d(160, 32, kernel_size=(3, 3), stride=(1, 1), padding=(1, 1))\n        (conv5): Conv2d(192, 64, kernel_size=(3, 3), stride=(1, 1), padding=(1, 1))\n        (lrelu): LeakyReLU(negative_slope=0.2, inplace=True)\n      )\n      (rdb3): ResidualDenseBlock(\n        (conv1): Conv2d(64, 32, kernel_size=(3, 3), stride=(1, 1), padding=(1, 1))\n        (conv2): Conv2d(96, 32, kernel_size=(3, 3), stride=(1, 1), padding=(1, 1))\n        (conv3): Conv2d(128, 32, kernel_size=(3, 3), stride=(1, 1), padding=(1, 1))\n        (conv4): Conv2d(160, 32, kernel_size=(3, 3), stride=(1, 1), padding=(1, 1))\n        (conv5): Conv2d(192, 64, kernel_size=(3, 3), stride=(1, 1), padding=(1, 1))\n        (lrelu): LeakyReLU(negative_slope=0.2, inplace=True)\n      )\n    )\n    (21): RRDB(\n      (rdb1): ResidualDenseBlock(\n        (conv1): Conv2d(64, 32, kernel_size=(3, 3), stride=(1, 1), padding=(1, 1))\n        (conv2): Conv2d(96, 32, kernel_size=(3, 3), stride=(1, 1), padding=(1, 1))\n        (conv3): Conv2d(128, 32, kernel_size=(3, 3), stride=(1, 1), padding=(1, 1))\n        (conv4): Conv2d(160, 32, kernel_size=(3, 3), stride=(1, 1), padding=(1, 1))\n        (conv5): Conv2d(192, 64, kernel_size=(3, 3), stride=(1, 1), padding=(1, 1))\n        (lrelu): LeakyReLU(negative_slope=0.2, inplace=True)\n      )\n      (rdb2): ResidualDenseBlock(\n        (conv1): Conv2d(64, 32, kernel_size=(3, 3), stride=(1, 1), padding=(1, 1))\n        (conv2): Conv2d(96, 32, kernel_size=(3, 3), stride=(1, 1), padding=(1, 1))\n        (conv3): Conv2d(128, 32, kernel_size=(3, 3), stride=(1, 1), padding=(1, 1))\n        (conv4): Conv2d(160, 32, kernel_size=(3, 3), stride=(1, 1), padding=(1, 1))\n        (conv5): Conv2d(192, 64, kernel_size=(3, 3), stride=(1, 1), padding=(1, 1))\n        (lrelu): LeakyReLU(negative_slope=0.2, inplace=True)\n      )\n      (rdb3): ResidualDenseBlock(\n        (conv1): Conv2d(64, 32, kernel_size=(3, 3), stride=(1, 1), padding=(1, 1))\n        (conv2): Conv2d(96, 32, kernel_size=(3, 3), stride=(1, 1), padding=(1, 1))\n        (conv3): Conv2d(128, 32, kernel_size=(3, 3), stride=(1, 1), padding=(1, 1))\n        (conv4): Conv2d(160, 32, kernel_size=(3, 3), stride=(1, 1), padding=(1, 1))\n        (conv5): Conv2d(192, 64, kernel_size=(3, 3), stride=(1, 1), padding=(1, 1))\n        (lrelu): LeakyReLU(negative_slope=0.2, inplace=True)\n      )\n    )\n    (22): RRDB(\n      (rdb1): ResidualDenseBlock(\n        (conv1): Conv2d(64, 32, kernel_size=(3, 3), stride=(1, 1), padding=(1, 1))\n        (conv2): Conv2d(96, 32, kernel_size=(3, 3), stride=(1, 1), padding=(1, 1))\n        (conv3): Conv2d(128, 32, kernel_size=(3, 3), stride=(1, 1), padding=(1, 1))\n        (conv4): Conv2d(160, 32, kernel_size=(3, 3), stride=(1, 1), padding=(1, 1))\n        (conv5): Conv2d(192, 64, kernel_size=(3, 3), stride=(1, 1), padding=(1, 1))\n        (lrelu): LeakyReLU(negative_slope=0.2, inplace=True)\n      )\n      (rdb2): ResidualDenseBlock(\n        (conv1): Conv2d(64, 32, kernel_size=(3, 3), stride=(1, 1), padding=(1, 1))\n        (conv2): Conv2d(96, 32, kernel_size=(3, 3), stride=(1, 1), padding=(1, 1))\n        (conv3): Conv2d(128, 32, kernel_size=(3, 3), stride=(1, 1), padding=(1, 1))\n        (conv4): Conv2d(160, 32, kernel_size=(3, 3), stride=(1, 1), padding=(1, 1))\n        (conv5): Conv2d(192, 64, kernel_size=(3, 3), stride=(1, 1), padding=(1, 1))\n        (lrelu): LeakyReLU(negative_slope=0.2, inplace=True)\n      )\n      (rdb3): ResidualDenseBlock(\n        (conv1): Conv2d(64, 32, kernel_size=(3, 3), stride=(1, 1), padding=(1, 1))\n        (conv2): Conv2d(96, 32, kernel_size=(3, 3), stride=(1, 1), padding=(1, 1))\n        (conv3): Conv2d(128, 32, kernel_size=(3, 3), stride=(1, 1), padding=(1, 1))\n        (conv4): Conv2d(160, 32, kernel_size=(3, 3), stride=(1, 1), padding=(1, 1))\n        (conv5): Conv2d(192, 64, kernel_size=(3, 3), stride=(1, 1), padding=(1, 1))\n        (lrelu): LeakyReLU(negative_slope=0.2, inplace=True)\n      )\n    )\n  )\n  (conv_body): Conv2d(64, 64, kernel_size=(3, 3), stride=(1, 1), padding=(1, 1))\n  (conv_up1): Conv2d(64, 64, kernel_size=(3, 3), stride=(1, 1), padding=(1, 1))\n  (conv_up2): Conv2d(64, 64, kernel_size=(3, 3), stride=(1, 1), padding=(1, 1))\n  (conv_hr): Conv2d(64, 64, kernel_size=(3, 3), stride=(1, 1), padding=(1, 1))\n  (conv_last): Conv2d(64, 3, kernel_size=(3, 3), stride=(1, 1), padding=(1, 1))\n  (lrelu): LeakyReLU(negative_slope=0.2, inplace=True)\n)\n2025-05-25 16:44:27,321 INFO: Loading SSR_RRDBNet model from weights/esrgan_1S2.pth, with param key: [params_ema].\n2025-05-25 16:44:27,401 INFO: Use Exponential Moving Average with decay: 0.999\n2025-05-25 16:44:27,703 INFO: Network [SSR_RRDBNet] is created.\n2025-05-25 16:44:27,828 INFO: Loading SSR_RRDBNet model from weights/esrgan_1S2.pth, with param key: [params_ema].\n2025-05-25 16:44:27,944 INFO: Network [OSMObjDiscriminator] is created.\n2025-05-25 16:44:27,952 INFO: Network: OSMObjDiscriminator, with parameters: 5,144,484\n2025-05-25 16:44:27,953 INFO: OSMObjDiscriminator(\n  (o_conv1): Conv2d(3, 64, kernel_size=(4, 4), stride=(2, 2), padding=(1, 1))\n  (o_conv2): Conv2d(64, 128, kernel_size=(4, 4), stride=(2, 2), padding=(1, 1))\n  (o_attention1): SelfAttentionBlock(\n    (query_conv): Conv2d(128, 16, kernel_size=(1, 1), stride=(1, 1))\n    (key_conv): Conv2d(128, 16, kernel_size=(1, 1), stride=(1, 1))\n    (value_conv): Conv2d(128, 128, kernel_size=(1, 1), stride=(1, 1))\n  )\n  (o_conv3): Conv2d(128, 256, kernel_size=(4, 4), stride=(2, 2), padding=(1, 1))\n  (o_attention2): SelfAttentionBlock(\n    (query_conv): Conv2d(256, 32, kernel_size=(1, 1), stride=(1, 1))\n    (key_conv): Conv2d(256, 32, kernel_size=(1, 1), stride=(1, 1))\n    (value_conv): Conv2d(256, 256, kernel_size=(1, 1), stride=(1, 1))\n  )\n  (o_conv4): Conv2d(256, 1, kernel_size=(4, 4), stride=(2, 2), padding=(1, 1))\n  (conv0): Conv2d(6, 64, kernel_size=(3, 3), stride=(1, 1), padding=(1, 1))\n  (conv1): Conv2d(64, 128, kernel_size=(4, 4), stride=(2, 2), padding=(1, 1), bias=False)\n  (conv2): Conv2d(128, 256, kernel_size=(4, 4), stride=(2, 2), padding=(1, 1), bias=False)\n  (conv3): Conv2d(256, 512, kernel_size=(4, 4), stride=(2, 2), padding=(1, 1), bias=False)\n  (conv4): Conv2d(512, 256, kernel_size=(3, 3), stride=(1, 1), padding=(1, 1), bias=False)\n  (conv5): Conv2d(256, 128, kernel_size=(3, 3), stride=(1, 1), padding=(1, 1), bias=False)\n  (conv6): Conv2d(128, 64, kernel_size=(3, 3), stride=(1, 1), padding=(1, 1), bias=False)\n  (conv7): Conv2d(64, 64, kernel_size=(3, 3), stride=(1, 1), padding=(1, 1), bias=False)\n  (conv8): Conv2d(64, 64, kernel_size=(3, 3), stride=(1, 1), padding=(1, 1), bias=False)\n  (conv9): Conv2d(64, 1, kernel_size=(3, 3), stride=(1, 1), padding=(1, 1))\n)\n2025-05-25 16:44:27,956 INFO: Loss [L1Loss] is created.\n2025-05-25 16:44:29,534 INFO: Loss [PerceptualLoss] is created.\n2025-05-25 16:44:29,557 INFO: Loss [GANLoss] is created.\n2025-05-25 16:44:32,866 INFO: Loss [CLIPLoss] is created.\n2025-05-25 16:44:33,083 INFO: Model [OSMObjESRGANModel] is created.\nbuilding model: <ssr.models.osm_objs_esrgan_model.OSMObjESRGANModel object at 0x7e23a457d590>\n2025-05-25 16:44:33,134 INFO: Start training from epoch: 0, iter: 0\n2025-05-25 16:45:02,265 INFO: [osm-o..][epoch:  0, iter:      10, lr:(1.000e-04,)] [eta: 16:23:34, time (data): 2.912 (0.025)] l_g_pix: 1.6743e-01 l_g_percep: 1.4936e+01 l_g_gan: 7.1007e-02 l_g_gan_objs: 1.5595e-02 l_clip_sim: 8.3853e-02 l_d_real: 8.6444e-01 l_d_real_objs: 1.5798e-01 out_d_real: -2.6300e-02 l_d_fake: 8.3255e-01 l_d_fake_objs: 1.5595e-01 out_d_fake: -3.3466e-02 \n2025-05-25 16:45:09,410 INFO: [osm-o..][epoch:  0, iter:      20, lr:(1.000e-04,)] [eta: 18:02:10, time (data): 1.813 (0.014)] l_g_pix: 1.5108e-01 l_g_percep: 1.4316e+01 l_g_gan: 6.9968e-02 l_g_gan_objs: 3.4761e-03 l_clip_sim: 9.5042e-02 l_d_real: 7.1924e-01 l_d_real_objs: 3.5926e-02 out_d_real: 2.0018e-02 l_d_fake: 7.2167e-01 l_d_fake_objs: 3.4761e-02 out_d_fake: -1.2773e-02 \n2025-05-25 16:45:16,560 INFO: [osm-o..][epoch:  0, iter:      30, lr:(1.000e-04,)] [eta: 18:37:18, time (data): 1.447 (0.011)] l_g_pix: 1.3633e-01 l_g_percep: 1.3612e+01 l_g_gan: 9.7607e-02 l_g_gan_objs: 1.1724e-04 l_clip_sim: 8.4044e-02 l_d_real: 9.5933e-01 l_d_real_objs: 1.7281e-03 out_d_real: -4.6819e-01 l_d_fake: 4.8191e-01 l_d_fake_objs: 1.1724e-03 out_d_fake: -4.8830e-01 \n2025-05-25 16:45:23,684 INFO: [osm-o..][epoch:  0, iter:      40, lr:(1.000e-04,)] [eta: 18:54:12, time (data): 1.263 (0.009)] l_g_pix: 1.1376e-01 l_g_percep: 1.2846e+01 l_g_gan: 6.3478e-02 l_g_gan_objs: 9.3863e-07 l_clip_sim: 9.4087e-02 l_d_real: 6.1125e-01 l_d_real_objs: 2.8724e-05 out_d_real: 2.0491e-01 l_d_fake: 7.7872e-01 l_d_fake_objs: 9.3863e-06 out_d_fake: 1.4386e-01 \n2025-05-25 16:45:30,962 INFO: [osm-o..][epoch:  0, iter:      50, lr:(1.000e-04,)] [eta: 19:09:26, time (data): 1.156 (0.008)] l_g_pix: 1.2742e-01 l_g_percep: 1.3248e+01 l_g_gan: 7.8440e-02 l_g_gan_objs: 5.7588e-07 l_clip_sim: 6.6573e-02 l_d_real: 7.8410e-01 l_d_real_objs: 4.9977e-06 out_d_real: -1.7389e-01 l_d_fake: 6.1000e-01 l_d_fake_objs: 5.7588e-06 out_d_fake: -1.7439e-01 \n2025-05-25 16:45:38,143 INFO: [osm-o..][epoch:  0, iter:      60, lr:(1.000e-04,)] [eta: 19:16:58, time (data): 1.083 (0.007)] l_g_pix: 1.2438e-01 l_g_percep: 1.3031e+01 l_g_gan: 7.2524e-02 l_g_gan_objs: 7.1302e-08 l_clip_sim: 7.5835e-02 l_d_real: 7.2222e-01 l_d_real_objs: 1.5411e-06 out_d_real: -5.7254e-02 l_d_fake: 6.6212e-01 l_d_fake_objs: 7.1302e-07 out_d_fake: -6.3127e-02 \n2025-05-25 16:45:45,355 INFO: [osm-o..][epoch:  0, iter:      70, lr:(1.000e-04,)] [eta: 19:23:07, time (data): 1.031 (0.007)] l_g_pix: 1.3924e-01 l_g_percep: 1.4132e+01 l_g_gan: 6.9181e-02 l_g_gan_objs: 8.7842e-08 l_clip_sim: 6.2633e-02 l_d_real: 6.8905e-01 l_d_real_objs: 3.8253e-06 out_d_real: 8.2856e-03 l_d_fake: 6.9453e-01 l_d_fake_objs: 8.7842e-07 out_d_fake: 2.7270e-03 \n2025-05-25 16:45:52,585 INFO: [osm-o..][epoch:  0, iter:      80, lr:(1.000e-04,)] [eta: 19:28:03, time (data): 0.993 (0.006)] l_g_pix: 1.1830e-01 l_g_percep: 1.3519e+01 l_g_gan: 6.9589e-02 l_g_gan_objs: 6.4373e-08 l_clip_sim: 7.6068e-02 l_d_real: 6.9762e-01 l_d_real_objs: 7.0853e-07 out_d_real: -8.8475e-03 l_d_fake: 6.9051e-01 l_d_fake_objs: 6.4373e-07 out_d_fake: -5.3865e-03 \n2025-05-25 16:45:59,743 INFO: [osm-o..][epoch:  0, iter:      90, lr:(1.000e-04,)] [eta: 19:30:34, time (data): 0.962 (0.006)] l_g_pix: 1.1694e-01 l_g_percep: 1.3215e+01 l_g_gan: 7.0272e-02 l_g_gan_objs: 5.0669e-07 l_clip_sim: 6.6362e-02 l_d_real: 6.9872e-01 l_d_real_objs: 1.1259e-05 out_d_real: -1.0999e-02 l_d_fake: 6.8376e-01 l_d_fake_objs: 5.0669e-06 out_d_fake: -1.8968e-02 \n2025-05-25 16:46:06,912 INFO: [osm-o..][epoch:  0, iter:     100, lr:(1.000e-04,)] [eta: 19:32:45, time (data): 0.937 (0.006)] l_g_pix: 1.3896e-01 l_g_percep: 1.2998e+01 l_g_gan: 6.9998e-02 l_g_gan_objs: 2.0898e-07 l_clip_sim: 6.0043e-02 l_d_real: 6.9749e-01 l_d_real_objs: 4.4555e-06 out_d_real: -8.3843e-03 l_d_fake: 6.8647e-01 l_d_fake_objs: 2.0898e-06 out_d_fake: -1.3507e-02 \n2025-05-25 16:46:14,112 INFO: [osm-o..][epoch:  0, iter:     110, lr:(1.000e-04,)] [eta: 19:34:59, time (data): 0.918 (0.006)] l_g_pix: 1.2624e-01 l_g_percep: 1.2751e+01 l_g_gan: 7.0167e-02 l_g_gan_objs: 9.8794e-08 l_clip_sim: 8.6756e-02 l_d_real: 6.9481e-01 l_d_real_objs: 3.5303e-06 out_d_real: -3.0717e-03 l_d_fake: 6.8481e-01 l_d_fake_objs: 9.8794e-07 out_d_fake: -1.6864e-02 \n2025-05-25 16:46:21,338 INFO: [osm-o..][epoch:  0, iter:     120, lr:(1.000e-04,)] [eta: 19:37:10, time (data): 0.901 (0.005)] l_g_pix: 1.1756e-01 l_g_percep: 1.3013e+01 l_g_gan: 6.9147e-02 l_g_gan_objs: 7.5741e-07 l_clip_sim: 6.4901e-02 l_d_real: 6.8427e-01 l_d_real_objs: 4.3250e-07 out_d_real: 1.8175e-02 l_d_fake: 6.9517e-01 l_d_fake_objs: 7.5741e-06 out_d_fake: 3.6954e-03 \n2025-05-25 16:46:28,587 INFO: [osm-o..][epoch:  0, iter:     130, lr:(1.000e-04,)] [eta: 19:39:18, time (data): 0.888 (0.005)] l_g_pix: 1.3431e-01 l_g_percep: 1.3585e+01 l_g_gan: 7.2025e-02 l_g_gan_objs: 1.2517e-07 l_clip_sim: 6.8461e-02 l_d_real: 7.1579e-01 l_d_real_objs: 4.4680e-06 out_d_real: -4.4377e-02 l_d_fake: 6.6707e-01 l_d_fake_objs: 1.2517e-06 out_d_fake: -5.3185e-02 \n2025-05-25 16:46:35,835 INFO: [osm-o..][epoch:  0, iter:     140, lr:(1.000e-04,)] [eta: 19:41:06, time (data): 0.876 (0.005)] l_g_pix: 1.3205e-01 l_g_percep: 1.2735e+01 l_g_gan: 6.7859e-02 l_g_gan_objs: 9.8570e-08 l_clip_sim: 6.6374e-02 l_d_real: 6.7111e-01 l_d_real_objs: 3.7997e-06 out_d_real: 4.4910e-02 l_d_fake: 7.0807e-01 l_d_fake_objs: 9.8570e-07 out_d_fake: 2.9478e-02 \n2025-05-25 16:46:43,025 INFO: [osm-o..][epoch:  0, iter:     150, lr:(1.000e-04,)] [eta: 19:42:01, time (data): 0.866 (0.005)] l_g_pix: 1.1875e-01 l_g_percep: 1.2924e+01 l_g_gan: 6.8566e-02 l_g_gan_objs: 4.0904e-08 l_clip_sim: 6.6165e-02 l_d_real: 6.6827e-01 l_d_real_objs: 1.8272e-06 out_d_real: 5.1330e-02 l_d_fake: 7.0123e-01 l_d_fake_objs: 4.0904e-07 out_d_fake: 1.5565e-02 \n2025-05-25 16:46:50,220 INFO: [osm-o..][epoch:  0, iter:     160, lr:(1.000e-04,)] [eta: 19:42:51, time (data): 0.856 (0.005)] l_g_pix: 1.4612e-01 l_g_percep: 1.3742e+01 l_g_gan: 7.2204e-02 l_g_gan_objs: 4.3139e-08 l_clip_sim: 7.6565e-02 l_d_real: 7.1605e-01 l_d_real_objs: 2.1088e-06 out_d_real: -4.3619e-02 l_d_fake: 6.6575e-01 l_d_fake_objs: 4.3139e-07 out_d_fake: -5.6285e-02 \n2025-05-25 16:46:57,493 INFO: [osm-o..][epoch:  0, iter:     170, lr:(1.000e-04,)] [eta: 19:44:20, time (data): 0.849 (0.005)] l_g_pix: 1.3516e-01 l_g_percep: 1.3137e+01 l_g_gan: 7.0609e-02 l_g_gan_objs: 7.2643e-09 l_clip_sim: 7.9638e-02 l_d_real: 6.9579e-01 l_d_real_objs: 6.5378e-07 out_d_real: -4.7676e-03 l_d_fake: 6.8064e-01 l_d_fake_objs: 7.2643e-08 out_d_fake: -2.5445e-02 \n2025-05-25 16:47:04,771 INFO: [osm-o..][epoch:  0, iter:     180, lr:(1.000e-04,)] [eta: 19:45:41, time (data): 0.842 (0.005)] l_g_pix: 1.3696e-01 l_g_percep: 1.3696e+01 l_g_gan: 6.7721e-02 l_g_gan_objs: 1.8999e-09 l_clip_sim: 7.1347e-02 l_d_real: 6.7819e-01 l_d_real_objs: 1.1176e-09 out_d_real: 3.1510e-02 l_d_fake: 7.1023e-01 l_d_fake_objs: 1.8999e-08 out_d_fake: 3.3019e-02 \n2025-05-25 16:47:12,105 INFO: [osm-o..][epoch:  0, iter:     190, lr:(1.000e-04,)] [eta: 19:47:22, time (data): 0.836 (0.005)] l_g_pix: 1.3448e-01 l_g_percep: 1.4030e+01 l_g_gan: 6.3667e-02 l_g_gan_objs: 5.6997e-09 l_clip_sim: 7.1032e-02 l_d_real: 6.2838e-01 l_d_real_objs: 3.1739e-07 out_d_real: 1.3552e-01 l_d_fake: 7.5427e-01 l_d_fake_objs: 5.6997e-08 out_d_fake: 1.1760e-01 \n2025-05-25 16:47:19,331 INFO: [osm-o..][epoch:  0, iter:     200, lr:(1.000e-04,)] [eta: 19:47:59, time (data): 0.831 (0.005)] l_g_pix: 1.3697e-01 l_g_percep: 1.2129e+01 l_g_gan: 7.2004e-02 l_g_gan_objs: 1.5601e-07 l_clip_sim: 6.3159e-02 l_d_real: 7.1461e-01 l_d_real_objs: 3.1224e-06 out_d_real: -4.2116e-02 l_d_fake: 6.6713e-01 l_d_fake_objs: 1.5601e-06 out_d_fake: -5.2912e-02 \n2025-05-25 16:47:26,535 INFO: [osm-o..][epoch:  0, iter:     210, lr:(1.000e-04,)] [eta: 19:48:21, time (data): 0.721 (0.003)] l_g_pix: 1.2628e-01 l_g_percep: 1.2609e+01 l_g_gan: 6.7652e-02 l_g_gan_objs: 2.3358e-08 l_clip_sim: 6.3265e-02 l_d_real: 6.5628e-01 l_d_real_objs: 3.6769e-07 out_d_real: 7.9869e-02 l_d_fake: 7.1198e-01 l_d_fake_objs: 2.3358e-07 out_d_fake: 3.5462e-02 \n2025-05-25 16:47:33,843 INFO: [osm-o..][epoch:  0, iter:     220, lr:(1.000e-04,)] [eta: 19:49:27, time (data): 0.726 (0.003)] l_g_pix: 1.3568e-01 l_g_percep: 1.2548e+01 l_g_gan: 7.6081e-02 l_g_gan_objs: 2.0117e-08 l_clip_sim: 6.8591e-02 l_d_real: 7.4829e-01 l_d_real_objs: 6.5043e-07 out_d_real: -1.0268e-01 l_d_fake: 6.3125e-01 l_d_fake_objs: 2.0117e-07 out_d_fake: -1.2955e-01 \n2025-05-25 16:47:41,076 INFO: [osm-o..][epoch:  0, iter:     230, lr:(1.000e-04,)] [eta: 19:49:55, time (data): 0.725 (0.004)] l_g_pix: 1.2643e-01 l_g_percep: 1.2457e+01 l_g_gan: 6.9926e-02 l_g_gan_objs: 6.4708e-08 l_clip_sim: 7.2421e-02 l_d_real: 6.9718e-01 l_d_real_objs: 1.8664e-07 out_d_real: -5.2995e-03 l_d_fake: 6.8844e-01 l_d_fake_objs: 6.4708e-07 out_d_fake: -1.0821e-02 \n2025-05-25 16:47:48,289 INFO: [osm-o..][epoch:  0, iter:     240, lr:(1.000e-04,)] [eta: 19:50:11, time (data): 0.724 (0.004)] l_g_pix: 1.3321e-01 l_g_percep: 1.2656e+01 l_g_gan: 6.9115e-02 l_g_gan_objs: 8.3260e-08 l_clip_sim: 6.9348e-02 l_d_real: 7.0897e-01 l_d_real_objs: 2.6040e-07 out_d_real: -2.9018e-02 l_d_fake: 6.9915e-01 l_d_fake_objs: 8.3260e-07 out_d_fake: 8.0052e-03 \n2025-05-25 16:47:55,449 INFO: [osm-o..][epoch:  0, iter:     250, lr:(1.000e-04,)] [eta: 19:50:05, time (data): 0.722 (0.004)] l_g_pix: 1.2322e-01 l_g_percep: 1.3420e+01 l_g_gan: 6.7384e-02 l_g_gan_objs: 1.3299e-08 l_clip_sim: 6.6372e-02 l_d_real: 6.7202e-01 l_d_real_objs: 1.5646e-08 out_d_real: 4.2836e-02 l_d_fake: 7.1292e-01 l_d_fake_objs: 1.3299e-07 out_d_fake: 3.9067e-02 \n2025-05-25 16:48:02,713 INFO: [osm-o..][epoch:  0, iter:     260, lr:(1.000e-04,)] [eta: 19:50:38, time (data): 0.723 (0.004)] l_g_pix: 1.2842e-01 l_g_percep: 1.2908e+01 l_g_gan: 7.0703e-02 l_g_gan_objs: 5.4762e-09 l_clip_sim: 7.2532e-02 l_d_real: 7.0780e-01 l_d_real_objs: 1.7546e-07 out_d_real: -2.8975e-02 l_d_fake: 6.7950e-01 l_d_fake_objs: 5.4762e-08 out_d_fake: -2.7533e-02 \n2025-05-25 16:48:09,980 INFO: [osm-o..][epoch:  0, iter:     270, lr:(1.000e-04,)] [eta: 19:51:09, time (data): 0.723 (0.004)] l_g_pix: 1.3301e-01 l_g_percep: 1.2853e+01 l_g_gan: 7.1741e-02 l_g_gan_objs: 3.9116e-09 l_clip_sim: 6.7809e-02 l_d_real: 7.1592e-01 l_d_real_objs: 8.9407e-08 out_d_real: -4.4981e-02 l_d_fake: 6.6949e-01 l_d_fake_objs: 3.9116e-08 out_d_fake: -4.7922e-02 \n2025-05-25 16:48:17,214 INFO: [osm-o..][epoch:  0, iter:     280, lr:(1.000e-04,)] [eta: 19:51:26, time (data): 0.723 (0.004)] l_g_pix: 1.2338e-01 l_g_percep: 1.2187e+01 l_g_gan: 6.6742e-02 l_g_gan_objs: 3.3527e-08 l_clip_sim: 6.7325e-02 l_d_real: 6.6149e-01 l_d_real_objs: 4.8300e-06 out_d_real: 6.5210e-02 l_d_fake: 7.2002e-01 l_d_fake_objs: 3.3527e-07 out_d_fake: 5.2602e-02 \n2025-05-25 16:48:24,381 INFO: [osm-o..][epoch:  0, iter:     290, lr:(1.000e-04,)] [eta: 19:51:18, time (data): 0.723 (0.004)] l_g_pix: 1.3060e-01 l_g_percep: 1.3188e+01 l_g_gan: 7.0576e-02 l_g_gan_objs: 4.3250e-08 l_clip_sim: 5.5665e-02 l_d_real: 6.9227e-01 l_d_real_objs: 8.7730e-07 out_d_real: 2.8762e-03 l_d_fake: 6.8106e-01 l_d_fake_objs: 4.3250e-07 out_d_fake: -2.4702e-02 \n2025-05-25 16:48:31,541 INFO: [osm-o..][epoch:  0, iter:     300, lr:(1.000e-04,)] [eta: 19:51:08, time (data): 0.722 (0.004)] l_g_pix: 1.2686e-01 l_g_percep: 1.3328e+01 l_g_gan: 6.8347e-02 l_g_gan_objs: 1.2293e-09 l_clip_sim: 8.7577e-02 l_d_real: 6.5403e-01 l_d_real_objs: 4.0233e-08 out_d_real: 8.6687e-02 l_d_fake: 7.0502e-01 l_d_fake_objs: 1.2293e-08 out_d_fake: 2.1554e-02 \n2025-05-25 16:48:38,865 INFO: [osm-o..][epoch:  0, iter:     310, lr:(1.000e-04,)] [eta: 19:51:51, time (data): 0.723 (0.004)] l_g_pix: 1.4243e-01 l_g_percep: 1.3312e+01 l_g_gan: 7.6244e-02 l_g_gan_objs: 3.9004e-08 l_clip_sim: 5.4735e-02 l_d_real: 7.4232e-01 l_d_real_objs: 1.7780e-05 out_d_real: -9.1444e-02 l_d_fake: 6.2929e-01 l_d_fake_objs: 3.9004e-07 out_d_fake: -1.3308e-01 \n2025-05-25 16:48:46,021 INFO: [osm-o..][epoch:  0, iter:     320, lr:(1.000e-04,)] [eta: 19:51:38, time (data): 0.722 (0.004)] l_g_pix: 1.3999e-01 l_g_percep: 1.3752e+01 l_g_gan: 6.2812e-02 l_g_gan_objs: 3.2969e-08 l_clip_sim: 5.4259e-02 l_d_real: 5.9014e-01 l_d_real_objs: 1.6764e-08 out_d_real: 2.3922e-01 l_d_fake: 7.7037e-01 l_d_fake_objs: 3.2969e-07 out_d_fake: 1.4223e-01 \n2025-05-25 16:48:53,232 INFO: [osm-o..][epoch:  0, iter:     330, lr:(1.000e-04,)] [eta: 19:51:42, time (data): 0.722 (0.003)] l_g_pix: 1.2865e-01 l_g_percep: 1.3284e+01 l_g_gan: 7.4722e-02 l_g_gan_objs: 1.6317e-08 l_clip_sim: 7.6232e-02 l_d_real: 7.3649e-01 l_d_real_objs: 2.2128e-07 out_d_real: -8.1101e-02 l_d_fake: 6.4218e-01 l_d_fake_objs: 1.6317e-07 out_d_fake: -1.0503e-01 \n2025-05-25 16:49:00,389 INFO: [osm-o..][epoch:  0, iter:     340, lr:(1.000e-04,)] [eta: 19:51:30, time (data): 0.722 (0.003)] l_g_pix: 1.2556e-01 l_g_percep: 1.2730e+01 l_g_gan: 6.9576e-02 l_g_gan_objs: 2.0117e-09 l_clip_sim: 6.6167e-02 l_d_real: 6.7873e-01 l_d_real_objs: 3.3528e-09 out_d_real: 3.3689e-02 l_d_fake: 6.9183e-01 l_d_fake_objs: 2.0117e-08 out_d_fake: -3.9387e-03 \n2025-05-25 16:49:07,617 INFO: [osm-o..][epoch:  0, iter:     350, lr:(1.000e-04,)] [eta: 19:51:39, time (data): 0.722 (0.003)] l_g_pix: 1.3313e-01 l_g_percep: 1.3130e+01 l_g_gan: 6.8602e-02 l_g_gan_objs: 3.3304e-08 l_clip_sim: 6.6195e-02 l_d_real: 6.8566e-01 l_d_real_objs: 1.5646e-07 out_d_real: 1.5178e-02 l_d_fake: 7.0040e-01 l_d_fake_objs: 3.3304e-07 out_d_fake: 1.4374e-02 \n2025-05-25 16:49:14,852 INFO: [osm-o..][epoch:  0, iter:     360, lr:(1.000e-04,)] [eta: 19:51:48, time (data): 0.722 (0.004)] l_g_pix: 1.2349e-01 l_g_percep: 1.3214e+01 l_g_gan: 6.9740e-02 l_g_gan_objs: 1.1176e-10 l_clip_sim: 6.4953e-02 l_d_real: 6.9944e-01 l_d_real_objs: 2.2352e-08 out_d_real: -1.2421e-02 l_d_fake: 6.8905e-01 l_d_fake_objs: 1.1176e-09 out_d_fake: -8.3507e-03 \n2025-05-25 16:49:22,023 INFO: [osm-o..][epoch:  0, iter:     370, lr:(1.000e-04,)] [eta: 19:51:39, time (data): 0.721 (0.003)] l_g_pix: 1.1210e-01 l_g_percep: 1.1742e+01 l_g_gan: 7.1907e-02 l_g_gan_objs: 4.4703e-10 l_clip_sim: 5.9761e-02 l_d_real: 7.1737e-01 l_d_real_objs: 2.2352e-09 out_d_real: -4.7781e-02 l_d_fake: 6.6798e-01 l_d_fake_objs: 4.4703e-09 out_d_fake: -5.1086e-02 \n2025-05-25 16:49:29,690 INFO: [osm-o..][epoch:  0, iter:     380, lr:(1.000e-04,)] [eta: 19:53:40, time (data): 0.724 (0.003)] l_g_pix: 1.1730e-01 l_g_percep: 1.2729e+01 l_g_gan: 6.8182e-02 l_g_gan_objs: 5.5208e-08 l_clip_sim: 6.6321e-02 l_d_real: 6.7941e-01 l_d_real_objs: 1.1947e-06 out_d_real: 2.7750e-02 l_d_fake: 7.0466e-01 l_d_fake_objs: 5.5208e-07 out_d_fake: 2.2841e-02 \n2025-05-25 16:49:36,929 INFO: [osm-o..][epoch:  0, iter:     390, lr:(1.000e-04,)] [eta: 19:53:46, time (data): 0.724 (0.003)] l_g_pix: 1.3380e-01 l_g_percep: 1.2228e+01 l_g_gan: 6.9732e-02 l_g_gan_objs: 7.8231e-10 l_clip_sim: 7.4612e-02 l_d_real: 6.9679e-01 l_d_real_objs: 7.9682e-07 out_d_real: -7.2288e-03 l_d_fake: 6.8904e-01 l_d_fake_objs: 7.8231e-09 out_d_fake: -8.2820e-03 \n2025-05-25 16:49:44,210 INFO: [osm-o..][epoch:  0, iter:     400, lr:(1.000e-04,)] [eta: 19:54:01, time (data): 0.724 (0.003)] l_g_pix: 1.2921e-01 l_g_percep: 1.3603e+01 l_g_gan: 7.2352e-02 l_g_gan_objs: 9.0524e-09 l_clip_sim: 6.5383e-02 l_d_real: 7.2168e-01 l_d_real_objs: 1.6842e-06 out_d_real: -5.6193e-02 l_d_fake: 6.6376e-01 l_d_fake_objs: 9.0524e-08 out_d_fake: -5.9758e-02 \n2025-05-25 16:49:51,461 INFO: [osm-o..][epoch:  0, iter:     410, lr:(1.000e-04,)] [eta: 19:54:08, time (data): 0.724 (0.004)] l_g_pix: 1.1124e-01 l_g_percep: 1.1821e+01 l_g_gan: 6.7795e-02 l_g_gan_objs: 2.4587e-09 l_clip_sim: 4.9266e-02 l_d_real: 6.7585e-01 l_d_real_objs: 5.2527e-08 out_d_real: 3.4935e-02 l_d_fake: 7.0861e-01 l_d_fake_objs: 2.4587e-08 out_d_fake: 3.0657e-02 \n2025-05-25 16:49:58,751 INFO: [osm-o..][epoch:  0, iter:     420, lr:(1.000e-04,)] [eta: 19:54:23, time (data): 0.727 (0.004)] l_g_pix: 1.1211e-01 l_g_percep: 1.2426e+01 l_g_gan: 6.9412e-02 l_g_gan_objs: 6.7055e-10 l_clip_sim: 6.0611e-02 l_d_real: 6.9314e-01 l_d_real_objs: 4.5821e-08 out_d_real: 4.9640e-05 l_d_fake: 6.9222e-01 l_d_fake_objs: 6.7055e-09 out_d_fake: -1.9003e-03 \n2025-05-25 16:50:05,942 INFO: [osm-o..][epoch:  0, iter:     430, lr:(1.000e-04,)] [eta: 19:54:15, time (data): 0.724 (0.004)] l_g_pix: 1.1703e-01 l_g_percep: 1.2156e+01 l_g_gan: 7.1549e-02 l_g_gan_objs: 0.0000e+00 l_clip_sim: 5.7328e-02 l_d_real: 7.1200e-01 l_d_real_objs: 5.5879e-09 out_d_real: -3.7269e-02 l_d_fake: 6.7138e-01 l_d_fake_objs: 0.0000e+00 out_d_fake: -4.4102e-02 \n2025-05-25 16:50:13,190 INFO: [osm-o..][epoch:  0, iter:     440, lr:(1.000e-04,)] [eta: 19:54:19, time (data): 0.724 (0.004)] l_g_pix: 1.2333e-01 l_g_percep: 1.1757e+01 l_g_gan: 7.1337e-02 l_g_gan_objs: 6.6384e-08 l_clip_sim: 5.2728e-02 l_d_real: 7.1095e-01 l_d_real_objs: 2.7940e-08 out_d_real: -3.5161e-02 l_d_fake: 6.7346e-01 l_d_fake_objs: 6.6384e-07 out_d_fake: -3.9906e-02 \n2025-05-25 16:50:20,437 INFO: [osm-o..][epoch:  0, iter:     450, lr:(1.000e-04,)] [eta: 19:54:23, time (data): 0.724 (0.004)] l_g_pix: 1.1740e-01 l_g_percep: 1.1891e+01 l_g_gan: 6.9076e-02 l_g_gan_objs: 9.0077e-08 l_clip_sim: 7.3826e-02 l_d_real: 6.9354e-01 l_d_real_objs: 3.0063e-07 out_d_real: -4.9453e-04 l_d_fake: 6.9569e-01 l_d_fake_objs: 9.0077e-07 out_d_fake: 4.9293e-03 \n2025-05-25 16:50:27,641 INFO: [osm-o..][epoch:  0, iter:     460, lr:(1.000e-04,)] [eta: 19:54:17, time (data): 0.723 (0.004)] l_g_pix: 1.2573e-01 l_g_percep: 1.2088e+01 l_g_gan: 7.2589e-02 l_g_gan_objs: 8.9407e-10 l_clip_sim: 4.7212e-02 l_d_real: 7.2885e-01 l_d_real_objs: 2.3469e-08 out_d_real: -6.9894e-02 l_d_fake: 6.6173e-01 l_d_fake_objs: 8.9407e-09 out_d_fake: -6.4153e-02 \n2025-05-25 16:50:34,880 INFO: [osm-o..][epoch:  0, iter:     470, lr:(1.000e-04,)] [eta: 19:54:18, time (data): 0.723 (0.004)] l_g_pix: 1.1028e-01 l_g_percep: 1.2188e+01 l_g_gan: 6.9764e-02 l_g_gan_objs: 1.1176e-10 l_clip_sim: 5.3975e-02 l_d_real: 6.9035e-01 l_d_real_objs: 0.0000e+00 out_d_real: 6.0861e-03 l_d_fake: 6.8895e-01 l_d_fake_objs: 1.1176e-09 out_d_fake: -8.6895e-03 \n2025-05-25 16:50:42,105 INFO: [osm-o..][epoch:  0, iter:     480, lr:(1.000e-04,)] [eta: 19:54:16, time (data): 0.723 (0.004)] l_g_pix: 1.1545e-01 l_g_percep: 1.2898e+01 l_g_gan: 7.0342e-02 l_g_gan_objs: 3.3528e-10 l_clip_sim: 4.2848e-02 l_d_real: 6.7748e-01 l_d_real_objs: 0.0000e+00 out_d_real: 3.2372e-02 l_d_fake: 6.8370e-01 l_d_fake_objs: 3.3528e-09 out_d_fake: -1.9715e-02 \n2025-05-25 16:50:49,301 INFO: [osm-o..][epoch:  0, iter:     490, lr:(1.000e-04,)] [eta: 19:54:08, time (data): 0.723 (0.004)] l_g_pix: 1.1008e-01 l_g_percep: 1.1137e+01 l_g_gan: 6.9552e-02 l_g_gan_objs: 3.3528e-10 l_clip_sim: 6.2138e-02 l_d_real: 6.8466e-01 l_d_real_objs: 4.4703e-09 out_d_real: 1.7685e-02 l_d_fake: 6.9154e-01 l_d_fake_objs: 3.3528e-09 out_d_fake: -3.9810e-03 \n2025-05-25 16:50:56,562 INFO: [osm-o..][epoch:  0, iter:     500, lr:(1.000e-04,)] [eta: 19:54:13, time (data): 0.723 (0.004)] l_g_pix: 1.2393e-01 l_g_percep: 1.1864e+01 l_g_gan: 7.1395e-02 l_g_gan_objs: 2.1346e-08 l_clip_sim: 6.0577e-02 l_d_real: 7.0488e-01 l_d_real_objs: 1.3746e-07 out_d_real: -2.1978e-02 l_d_fake: 6.7324e-01 l_d_fake_objs: 2.1346e-07 out_d_fake: -4.0709e-02 \n2025-05-25 16:50:56,563 INFO: Saving models and training states.\nTest 254: 100%|████████████████████████████| 255/255 [00:31<00:00,  8.19image/s]\n2025-05-25 16:51:28,565 INFO: Validation validation\n\t # psnr: 14.8569\tBest: 14.8569 @ 500 iter\n\t # ssim: 0.2799\tBest: 0.2799 @ 500 iter\n\t # cpsnr: 16.7452\tBest: 16.7452 @ 500 iter\n\t # clipscore: 0.9408\tBest: 0.9408 @ 500 iter\n\n2025-05-25 16:51:36,169 INFO: [osm-o..][epoch:  1, iter:     510, lr:(1.000e-04,)] [eta: 21:39:15, time (data): 0.727 (0.007)] l_g_pix: 1.3747e-01 l_g_percep: 1.3118e+01 l_g_gan: 6.9625e-02 l_g_gan_objs: 8.9407e-10 l_clip_sim: 7.0301e-02 l_d_real: 7.1293e-01 l_d_real_objs: 2.2352e-09 out_d_real: -3.5850e-02 l_d_fake: 6.9233e-01 l_d_fake_objs: 8.9407e-09 out_d_fake: -3.9148e-03 \n2025-05-25 16:51:43,427 INFO: [osm-o..][epoch:  1, iter:     520, lr:(1.000e-04,)] [eta: 21:37:17, time (data): 0.726 (0.007)] l_g_pix: 1.0938e-01 l_g_percep: 1.2126e+01 l_g_gan: 6.7994e-02 l_g_gan_objs: 8.9407e-10 l_clip_sim: 6.0114e-02 l_d_real: 6.7142e-01 l_d_real_objs: 1.4305e-07 out_d_real: 4.5534e-02 l_d_fake: 7.0741e-01 l_d_fake_objs: 8.9407e-09 out_d_fake: 2.7473e-02 \n2025-05-25 16:51:50,729 INFO: [osm-o..][epoch:  1, iter:     530, lr:(1.000e-04,)] [eta: 21:35:31, time (data): 0.727 (0.006)] l_g_pix: 1.2698e-01 l_g_percep: 1.2713e+01 l_g_gan: 6.8005e-02 l_g_gan_objs: 2.2352e-10 l_clip_sim: 4.3914e-02 l_d_real: 6.5458e-01 l_d_real_objs: 2.2352e-09 out_d_real: 7.9542e-02 l_d_fake: 7.0682e-01 l_d_fake_objs: 2.2352e-09 out_d_fake: 2.6769e-02 \n2025-05-25 16:51:57,942 INFO: [osm-o..][epoch:  1, iter:     540, lr:(1.000e-04,)] [eta: 21:33:33, time (data): 0.726 (0.006)] l_g_pix: 1.4191e-01 l_g_percep: 1.2906e+01 l_g_gan: 6.6977e-02 l_g_gan_objs: 1.0058e-09 l_clip_sim: 6.7213e-02 l_d_real: 6.9780e-01 l_d_real_objs: 3.3528e-09 out_d_real: -4.1302e-03 l_d_fake: 7.2082e-01 l_d_fake_objs: 1.0058e-08 out_d_fake: 5.1056e-02 \n2025-05-25 16:52:05,134 INFO: [osm-o..][epoch:  1, iter:     550, lr:(1.000e-04,)] [eta: 21:31:34, time (data): 0.726 (0.006)] l_g_pix: 1.3103e-01 l_g_percep: 1.2910e+01 l_g_gan: 6.7687e-02 l_g_gan_objs: 3.3528e-10 l_clip_sim: 7.9293e-02 l_d_real: 6.7746e-01 l_d_real_objs: 1.7881e-08 out_d_real: 3.3307e-02 l_d_fake: 7.1054e-01 l_d_fake_objs: 3.3528e-09 out_d_fake: 3.3661e-02 \n2025-05-25 16:52:12,360 INFO: [osm-o..][epoch:  1, iter:     560, lr:(1.000e-04,)] [eta: 21:29:46, time (data): 0.726 (0.006)] l_g_pix: 1.2056e-01 l_g_percep: 1.1929e+01 l_g_gan: 7.2846e-02 l_g_gan_objs: 0.0000e+00 l_clip_sim: 4.3762e-02 l_d_real: 7.2473e-01 l_d_real_objs: 1.1176e-08 out_d_real: -6.1010e-02 l_d_fake: 6.5961e-01 l_d_fake_objs: 0.0000e+00 out_d_fake: -6.8848e-02 \n2025-05-25 16:52:19,690 INFO: [osm-o..][epoch:  1, iter:     570, lr:(1.000e-04,)] [eta: 21:28:20, time (data): 0.726 (0.006)] l_g_pix: 1.2512e-01 l_g_percep: 1.2745e+01 l_g_gan: 6.4251e-02 l_g_gan_objs: 4.5821e-09 l_clip_sim: 6.3981e-02 l_d_real: 6.6937e-01 l_d_real_objs: 4.4703e-09 out_d_real: 5.1492e-02 l_d_fake: 7.4867e-01 l_d_fake_objs: 4.5821e-08 out_d_fake: 1.0613e-01 \n2025-05-25 16:52:26,900 INFO: [osm-o..][epoch:  1, iter:     580, lr:(1.000e-04,)] [eta: 21:26:35, time (data): 0.726 (0.006)] l_g_pix: 1.3204e-01 l_g_percep: 1.2906e+01 l_g_gan: 6.7152e-02 l_g_gan_objs: 6.7055e-10 l_clip_sim: 5.8305e-02 l_d_real: 6.5812e-01 l_d_real_objs: 2.0117e-08 out_d_real: 7.5501e-02 l_d_fake: 7.1663e-01 l_d_fake_objs: 6.7055e-09 out_d_fake: 4.5114e-02 \n2025-05-25 16:52:34,119 INFO: [osm-o..][epoch:  1, iter:     590, lr:(1.000e-04,)] [eta: 21:24:56, time (data): 0.725 (0.005)] l_g_pix: 1.0509e-01 l_g_percep: 1.2024e+01 l_g_gan: 6.9936e-02 l_g_gan_objs: 0.0000e+00 l_clip_sim: 4.1583e-02 l_d_real: 6.6674e-01 l_d_real_objs: 3.3528e-09 out_d_real: 5.6935e-02 l_d_fake: 6.8901e-01 l_d_fake_objs: 0.0000e+00 out_d_fake: -1.0339e-02 \n2025-05-25 16:52:41,409 INFO: [osm-o..][epoch:  1, iter:     600, lr:(1.000e-04,)] [eta: 21:23:31, time (data): 0.726 (0.005)] l_g_pix: 1.2381e-01 l_g_percep: 1.3114e+01 l_g_gan: 7.3177e-02 l_g_gan_objs: 5.4426e-08 l_clip_sim: 6.1472e-02 l_d_real: 7.4596e-01 l_d_real_objs: 1.8105e-07 out_d_real: -9.6126e-02 l_d_fake: 6.6392e-01 l_d_fake_objs: 5.4426e-07 out_d_fake: -6.7824e-02 \n2025-05-25 16:52:48,593 INFO: [osm-o..][epoch:  1, iter:     610, lr:(1.000e-04,)] [eta: 21:21:52, time (data): 0.720 (0.004)] l_g_pix: 1.3288e-01 l_g_percep: 1.2946e+01 l_g_gan: 6.7900e-02 l_g_gan_objs: 4.4703e-10 l_clip_sim: 4.7307e-02 l_d_real: 6.6707e-01 l_d_real_objs: 0.0000e+00 out_d_real: 5.7107e-02 l_d_fake: 7.0898e-01 l_d_fake_objs: 4.4703e-09 out_d_fake: 2.9991e-02 \n2025-05-25 16:52:55,896 INFO: [osm-o..][epoch:  1, iter:     620, lr:(1.000e-04,)] [eta: 21:20:34, time (data): 0.726 (0.003)] l_g_pix: 1.1215e-01 l_g_percep: 1.2738e+01 l_g_gan: 7.0130e-02 l_g_gan_objs: 4.4703e-10 l_clip_sim: 6.1881e-02 l_d_real: 6.9336e-01 l_d_real_objs: 7.8231e-09 out_d_real: 1.0358e-02 l_d_fake: 6.9068e-01 l_d_fake_objs: 4.4703e-09 out_d_fake: -1.0607e-02 \n2025-05-25 16:53:03,109 INFO: [osm-o..][epoch:  1, iter:     630, lr:(1.000e-04,)] [eta: 21:19:05, time (data): 0.724 (0.003)] l_g_pix: 1.1805e-01 l_g_percep: 1.2835e+01 l_g_gan: 7.3997e-02 l_g_gan_objs: 0.0000e+00 l_clip_sim: 6.5534e-02 l_d_real: 6.8510e-01 l_d_real_objs: 0.0000e+00 out_d_real: 2.3439e-02 l_d_fake: 6.5320e-01 l_d_fake_objs: 0.0000e+00 out_d_fake: -8.6775e-02 \n",
     "output_type": "stream"
    }
   ],
   "execution_count": null
  },
  {
   "cell_type": "code",
   "source": "",
   "metadata": {
    "trusted": true
   },
   "outputs": [],
   "execution_count": null
  }
 ]
}
